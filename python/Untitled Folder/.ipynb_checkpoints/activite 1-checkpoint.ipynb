{
 "cells": [
  {
   "cell_type": "code",
   "execution_count": 5,
   "metadata": {
    "collapsed": false
   },
   "outputs": [
    {
     "name": "stdout",
     "output_type": "stream",
     "text": [
      "42075\n"
     ]
    }
   ],
   "source": [
    "s=0\n",
    "i=10\n",
    "while i < 21 :\n",
    "    #print(i,i**3)\n",
    "    s = s + i**3\n",
    "    i = i + 1\n",
    "print(s)"
   ]
  },
  {
   "cell_type": "code",
   "execution_count": 11,
   "metadata": {
    "collapsed": false
   },
   "outputs": [
    {
     "name": "stdout",
     "output_type": "stream",
     "text": [
      "[10, 11, 12, 13, 14, 15, 16, 17, 18, 19, 20]\n",
      "[1000, 1331, 1728, 2197, 2744, 3375, 4096, 4913, 5832, 6859, 8000]\n",
      "42075\n"
     ]
    }
   ],
   "source": [
    "#en vrai python\n",
    "print([i for i in range(10,21)])\n",
    "print([i**3 for i in range (10,21)])\n",
    "print(sum([i**3 for i in range (10,21)]))"
   ]
  },
  {
   "cell_type": "code",
   "execution_count": 12,
   "metadata": {
    "collapsed": false
   },
   "outputs": [
    {
     "name": "stdout",
     "output_type": "stream",
     "text": [
      "2290\n",
      "[0, 1, 2, 3, 4, 5, 6, 7, 8, 9]\n",
      "[25, 49, 81, 121, 169, 225, 289, 361, 441, 529]\n"
     ]
    }
   ],
   "source": [
    "#1.2\n",
    "s=0\n",
    "i=10\n",
    "print(sum([(2*i+5)**2 for i in range(10)]))\n",
    "print([i for i in range(10)])\n",
    "print([(2*i+5)**2 for i in range(10)])"
   ]
  },
  {
   "cell_type": "code",
   "execution_count": 20,
   "metadata": {
    "collapsed": false
   },
   "outputs": [
    {
     "name": "stdout",
     "output_type": "stream",
     "text": [
      "67167475\n",
      "[100, 225, 400, 625, 900, 1225, 1600, 2025, 2500, 3025, 3600, 4225, 4900, 5625, 6400, 7225, 8100, 9025, 10000, 11025, 12100, 13225, 14400, 15625, 16900, 18225, 19600, 21025, 22500, 24025, 25600, 27225, 28900, 30625, 32400, 34225, 36100, 38025, 40000, 42025, 44100, 46225, 48400, 50625, 52900, 55225, 57600, 60025, 62500, 65025, 67600, 70225, 72900, 75625, 78400, 81225, 84100, 87025, 90000, 93025, 96100, 99225, 102400, 105625, 108900, 112225, 115600, 119025, 122500, 126025, 129600, 133225, 136900, 140625, 144400, 148225, 152100, 156025, 160000, 164025, 168100, 172225, 176400, 180625, 184900, 189225, 193600, 198025, 202500, 207025, 211600, 216225, 220900, 225625, 230400, 235225, 240100, 245025, 250000, 255025, 260100, 265225, 270400, 275625, 280900, 286225, 291600, 297025, 302500, 308025, 313600, 319225, 324900, 330625, 336400, 342225, 348100, 354025, 360000, 366025, 372100, 378225, 384400, 390625, 396900, 403225, 409600, 416025, 422500, 429025, 435600, 442225, 448900, 455625, 462400, 469225, 476100, 483025, 490000, 497025, 504100, 511225, 518400, 525625, 532900, 540225, 547600, 555025, 562500, 570025, 577600, 585225, 592900, 600625, 608400, 616225, 624100, 632025, 640000, 648025, 656100, 664225, 672400, 680625, 688900, 697225, 705600, 714025, 722500, 731025, 739600, 748225, 756900, 765625, 774400, 783225, 792100, 801025, 810000, 819025, 828100, 837225, 846400, 855625, 864900, 874225, 883600, 893025, 902500, 912025, 921600, 931225, 940900, 950625, 960400, 970225, 980100, 990025, 1000000]\n"
     ]
    }
   ],
   "source": [
    "#1.3\n",
    "print(sum([(5*i)**2 for i in range (2,201)]))\n",
    "print([(5*i)**2 for i in range (2,201)])\n",
    "\n",
    "#on aurait pu faire \n",
    "#sum([i**2 for i in range (10,1001) if i%5==0])"
   ]
  },
  {
   "cell_type": "code",
   "execution_count": 33,
   "metadata": {
    "collapsed": false
   },
   "outputs": [
    {
     "name": "stdout",
     "output_type": "stream",
     "text": [
      "fact(10)?\n",
      "fact(9)?\n",
      "fact(8)?\n",
      "fact(7)?\n",
      "fact(6)?\n",
      "fact(5)?\n",
      "fact(4)?\n",
      "fact(3)?\n",
      "fact(2)?\n",
      "fact(1)?\n",
      "fact(0)?\n",
      "3628800\n"
     ]
    }
   ],
   "source": [
    "#1.4\n",
    "def fact(n):\n",
    "    print(\"fact(%s)?\" %n)\n",
    "    if n==0:\n",
    "        return 1\n",
    "    else:\n",
    "        return n*fact(n-1)\n",
    "print(fact(10))"
   ]
  },
  {
   "cell_type": "code",
   "execution_count": null,
   "metadata": {
    "collapsed": true
   },
   "outputs": [],
   "source": []
  }
 ],
 "metadata": {
  "kernelspec": {
   "display_name": "Python 3",
   "language": "python",
   "name": "python3"
  },
  "language_info": {
   "codemirror_mode": {
    "name": "ipython",
    "version": 3
   },
   "file_extension": ".py",
   "mimetype": "text/x-python",
   "name": "python",
   "nbconvert_exporter": "python",
   "pygments_lexer": "ipython3",
   "version": "3.4.2"
  }
 },
 "nbformat": 4,
 "nbformat_minor": 0
}
