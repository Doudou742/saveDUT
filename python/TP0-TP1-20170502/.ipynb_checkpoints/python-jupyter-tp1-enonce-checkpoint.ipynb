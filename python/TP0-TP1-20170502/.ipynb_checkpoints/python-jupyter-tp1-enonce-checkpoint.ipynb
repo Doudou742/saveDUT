{
 "cells": [
  {
   "cell_type": "markdown",
   "metadata": {},
   "source": [
    "\n",
    "# jupyter - activité 3 :  usage de `sympy` \n",
    "Sauvegardez et fermez le calepin précédent et créez en un nouveau, donnez lui un nom. \n",
    "\n",
    "On commence par importer une bibliothèque de calcul symbolique. La cellule suivante permettra que les dessins soient insérés dans le calepin et non pas créés dans une nouvelle fenêtre. "
   ]
  },
  {
   "cell_type": "code",
   "execution_count": 1,
   "metadata": {
    "collapsed": true
   },
   "outputs": [],
   "source": [
    "from sympy import *"
   ]
  },
  {
   "cell_type": "code",
   "execution_count": null,
   "metadata": {
    "collapsed": true
   },
   "outputs": [],
   "source": [
    "%matplotlib inline"
   ]
  },
  {
   "cell_type": "code",
   "execution_count": null,
   "metadata": {
    "collapsed": true
   },
   "outputs": [],
   "source": [
    "# En décommentant `init_printing()` on affiche les résultats en jsmath :\n",
    "# c'est certes plus joli mais c'est moins compréhensible...\n",
    "# init_printing()"
   ]
  },
  {
   "cell_type": "markdown",
   "metadata": {},
   "source": [
    "Nous créons deux variables symboliques et en profitons pour réviser une identité remarquable :"
   ]
  },
  {
   "cell_type": "code",
   "execution_count": null,
   "metadata": {
    "collapsed": true
   },
   "outputs": [],
   "source": [
    "a,b=Symbol('a'),Symbol('b')\n",
    "print((a+b)**2)\n",
    "print(expand((a+b)**2))"
   ]
  },
  {
   "cell_type": "markdown",
   "metadata": {},
   "source": [
    "On peut développer par `expand`... et factoriser par `factor` : "
   ]
  },
  {
   "cell_type": "code",
   "execution_count": null,
   "metadata": {
    "collapsed": true
   },
   "outputs": [],
   "source": [
    "factor(a**3-8)"
   ]
  },
  {
   "cell_type": "code",
   "execution_count": null,
   "metadata": {
    "collapsed": true
   },
   "outputs": [],
   "source": [
    "factor(a**2-3)"
   ]
  },
  {
   "cell_type": "code",
   "execution_count": null,
   "metadata": {
    "collapsed": true
   },
   "outputs": [],
   "source": [
    "factor(a**2-3,extension=sqrt(3))"
   ]
  },
  {
   "cell_type": "markdown",
   "metadata": {},
   "source": [
    "mais ne rêvons pas : on ne sait que rarement factoriser des expressions, et `sympy` ne sait pas plus qu'un humain factoriser les expressions un peu trop complexes..."
   ]
  },
  {
   "cell_type": "markdown",
   "metadata": {},
   "source": [
    "### quelques exercices de la feuille de TD1 : polynômes\n",
    "\n",
    "* Exo 1 : utiliser `simplify`\n",
    "* Exo 2 : `pquo`, `prem` pour polynomial quotient, polynomial remainder\n",
    "* Exo 3 : `factor` "
   ]
  },
  {
   "cell_type": "code",
   "execution_count": 14,
   "metadata": {
    "collapsed": false
   },
   "outputs": [
    {
     "name": "stdout",
     "output_type": "stream",
     "text": [
      "(X**3 - X**2 + X - 1)*(X + 1) = X**4 - 1\n"
     ]
    }
   ],
   "source": [
    "def exof1(P,Q): \n",
    "    #P=X**3+X**2+X+1\n",
    "    #Q=X-1\n",
    "    print(\"(%s)*(%s) = %s\" % (P,Q,simplify(P*Q)))\n",
    "#print(simplify((P*Q)))\n",
    "X=Symbol('X')\n",
    "exof1(X**3-X**2+X-1,X+1)"
   ]
  },
  {
   "cell_type": "code",
   "execution_count": 16,
   "metadata": {
    "collapsed": false
   },
   "outputs": [
    {
     "name": "stdout",
     "output_type": "stream",
     "text": [
      "(X**3 - 2*X + 1) divise par (X + 1) \n",
      " le quotient est X**2 - X - 1 \n",
      " le reste est 2\n"
     ]
    }
   ],
   "source": [
    "def exo2f1(A,B):\n",
    "    R=prem(A,B)\n",
    "    Q=pquo(A,B)\n",
    "    print(\"(%s) divise par (%s) \\n le quotient est %s \\n le reste est %s\" %(A,B,Q,R))\n",
    "X=Symbol('X')\n",
    "exo2f1(X**3-2*X+1,X+1)"
   ]
  },
  {
   "cell_type": "code",
   "execution_count": null,
   "metadata": {
    "collapsed": true
   },
   "outputs": [],
   "source": []
  },
  {
   "cell_type": "markdown",
   "metadata": {
    "collapsed": true
   },
   "source": [
    "Pour le dernier calcul, remarquons que le discriminant de $Y^2 - Y + 1$ est $(-1)^2-4\\times1\\times1=-3$..."
   ]
  },
  {
   "cell_type": "markdown",
   "metadata": {},
   "source": [
    "Voici comment tracer une courbe de fonction : "
   ]
  },
  {
   "cell_type": "code",
   "execution_count": null,
   "metadata": {
    "collapsed": true
   },
   "outputs": [],
   "source": []
  },
  {
   "cell_type": "code",
   "execution_count": null,
   "metadata": {
    "collapsed": true
   },
   "outputs": [],
   "source": []
  },
  {
   "cell_type": "code",
   "execution_count": null,
   "metadata": {
    "collapsed": true
   },
   "outputs": [],
   "source": [
    "x=Symbol('x')\n",
    "plot(sin(x))"
   ]
  },
  {
   "cell_type": "code",
   "execution_count": null,
   "metadata": {
    "collapsed": true
   },
   "outputs": [],
   "source": [
    "# exo 1 de la feuille de TD 2\n",
    "f = lambda x : x**2+1*x+4\n",
    "for i in range(3) : \n",
    "    print('f(%s) = %s'%(i,f(i)))\n",
    "plot(f(x),(x,-2,4))"
   ]
  },
  {
   "cell_type": "markdown",
   "metadata": {},
   "source": [
    "Dans l'exo 2 de la feuille 2, on calcule un polynôme de Newton : \n",
    "\n",
    "$$ n = x \\mapsto  4 + 2 x + x \\left(x - 1\\right) + \\frac{-10}{6} x \\left(x - 1\\right) \\left(x - 2\\right)   $$\n",
    "\n",
    "Quelle est sa forme développée ? "
   ]
  },
  {
   "cell_type": "code",
   "execution_count": null,
   "metadata": {
    "collapsed": true
   },
   "outputs": [],
   "source": [
    "n = lambda x : 4 + 2*x + x*(x-1) + -10/6*x*(x-1)*(x-2)\n",
    "# n = lambda x : 4 + 2*x + x*(x-1) + Rational(-10,6)*x*(x-1)*(x-2)\n",
    "x=Symbol('x')\n",
    "print(n(x))"
   ]
  },
  {
   "cell_type": "markdown",
   "metadata": {},
   "source": [
    "C'est mieux avec un rationnel - et non un flottant : "
   ]
  },
  {
   "cell_type": "code",
   "execution_count": null,
   "metadata": {
    "collapsed": true
   },
   "outputs": [],
   "source": [
    "n = lambda x : 4 + 2*x + x*(x-1) + Rational(-10,6)*x*(x-1)*(x-2)\n",
    "print(n(x))"
   ]
  },
  {
   "cell_type": "markdown",
   "metadata": {},
   "source": [
    "Voici enfin cette forme développée : "
   ]
  },
  {
   "cell_type": "code",
   "execution_count": null,
   "metadata": {
    "collapsed": true
   },
   "outputs": [],
   "source": [
    "print(expand(n(x)))"
   ]
  },
  {
   "cell_type": "markdown",
   "metadata": {},
   "source": [
    "Rappelons que cette fonction est connue par ses valeurs en $0$, $1$, $2$ et $3$ : "
   ]
  },
  {
   "cell_type": "code",
   "execution_count": null,
   "metadata": {
    "collapsed": true
   },
   "outputs": [],
   "source": [
    "for i in range(4): \n",
    "    print('n(%s) = %s'%(i,n(i)))"
   ]
  },
  {
   "cell_type": "markdown",
   "metadata": {
    "collapsed": true
   },
   "source": [
    "## polynômes de Lagrange\n",
    "Nous allons construire une fonction qui renverra un **polynôme de Lagrange**. \n",
    "\n",
    "Rappelons comment un tel polynôme est construit : \n",
    "* les paramètres sont deux suites de $n+1$ valeurs $x_i : 0\\leq i \\leq n$ et $y_i : 0\\leq i \\leq n$, les abscisses $x_i$ devant être deux à deux distinctes ; \n",
    "* notre fonction (informatique) renvoie la fonction (mathématique) $p$ qui est le seul polynôme de degré au plus $n$ qui vérifie pour chque $i$ l'équation $p(x_i)=y_i$, ce polynôme étant obtenu par la formule de calcul : \n",
    "    * les $L_i$ forment la base de Lagrange : $$L_i=x\\mapsto\\prod_{j\\in\\{0,1\\dots n\\},j\\neq i}(x-x_i)$$\n",
    "    * le polynôme interpolateur est obtenu par la combinaison linéaire $$p=x \\mapsto \\sum_{i\\in\\{0,1\\dots n\\}} \\frac{y_i}{L_i(x_i)}\\times L_i(x)$$\n",
    "    \n",
    "La signature de notre fonction pourra être \n",
    "\n",
    "    def LagrangePoly(xi,yi) : \n",
    "    \"\"\" En entrée deux listes de n+1 nombres\n",
    "    Renvoie de poly de Lagrange associé à ces deux listes\n",
    "    \"\"\"\n",
    "Il est prudent de disposer d'un jeu d'essai, par exemple en reprenant l'**exercice 2** de la **feuille de TD 2** : \n",
    "\n",
    "On construitra d'abord la base de Lagrange : \n",
    "* construire la liste des $n+1$ monomes $x-x_j$ ; \n",
    "* construire la liste des $n$ monomes $x-x_j$, sauf le numéro $i$ ;\n",
    "* construire le produit de ces monômes - qui est noté $L_i(x)$ dans notre cours.\n",
    "\n",
    "On conclura en construisant alors le polynôme de Taylor. "
   ]
  },
  {
   "cell_type": "code",
   "execution_count": 3,
   "metadata": {
    "collapsed": false
   },
   "outputs": [
    {
     "name": "stdout",
     "output_type": "stream",
     "text": [
      "p(0) = 4\n",
      "p(1) = 6\n",
      "p(2) = 10\n"
     ]
    }
   ],
   "source": [
    "p=lambda x:x**2+x+4\n",
    "for x in [0,1,2]:\n",
    "    print(\"p(%s) = %s\" % (x,p(x)))"
   ]
  },
  {
   "cell_type": "code",
   "execution_count": 44,
   "metadata": {
    "collapsed": false
   },
   "outputs": [
    {
     "name": "stdout",
     "output_type": "stream",
     "text": [
      "-6*x*(x - 2) + 5*x*(x - 1) + 2*(x - 2)*(x - 1)\n",
      "x**2 + x + 4\n",
      "-5*x**3/3 + 6*x**2 - 7*x/3 + 4\n"
     ]
    }
   ],
   "source": [
    "def PL(xi,yi):\n",
    "    return lambda x:sum([simplify(yi[i])/simplify(BL(xi,i)(xi[i]))*BL(xi,i)(x) for i in range(len(xi))])\n",
    "pl1 = PL([0,1,2],[4,6,10])\n",
    "print(pl1(x))\n",
    "print(expand(pl1(x)))\n",
    "pl2=PL([0,1,2,3],[4,6,10,6])\n",
    "print(expand(pl2(x)))"
   ]
  },
  {
   "cell_type": "code",
   "execution_count": 31,
   "metadata": {
    "collapsed": false
   },
   "outputs": [
    {
     "name": "stdout",
     "output_type": "stream",
     "text": [
      "(x - 9)*(x - 8)*(x - 7)*(x - 6)*(x - 5)*(x - 4)*(x - 3)*(x - 2)*(x - 1)\n",
      "x*(x - 9)*(x - 8)*(x - 7)*(x - 6)*(x - 5)*(x - 4)*(x - 3)*(x - 2)\n",
      "x*(x - 9)*(x - 8)*(x - 7)*(x - 6)*(x - 5)*(x - 4)*(x - 3)*(x - 1)\n",
      "x*(x - 9)*(x - 8)*(x - 7)*(x - 6)*(x - 5)*(x - 4)*(x - 2)*(x - 1)\n",
      "x*(x - 9)*(x - 8)*(x - 7)*(x - 6)*(x - 5)*(x - 3)*(x - 2)*(x - 1)\n",
      "x*(x - 9)*(x - 8)*(x - 7)*(x - 6)*(x - 4)*(x - 3)*(x - 2)*(x - 1)\n",
      "x*(x - 9)*(x - 8)*(x - 7)*(x - 5)*(x - 4)*(x - 3)*(x - 2)*(x - 1)\n",
      "x*(x - 9)*(x - 8)*(x - 6)*(x - 5)*(x - 4)*(x - 3)*(x - 2)*(x - 1)\n",
      "x*(x - 9)*(x - 7)*(x - 6)*(x - 5)*(x - 4)*(x - 3)*(x - 2)*(x - 1)\n",
      "x*(x - 8)*(x - 7)*(x - 6)*(x - 5)*(x - 4)*(x - 3)*(x - 2)*(x - 1)\n"
     ]
    }
   ],
   "source": [
    "x=Symbol('x')\n",
    "#def BaseLagrange(xi):\n",
    "#    return prod([x-a for a in xi])\n",
    "#BaseLagrange([0,1,2])\n",
    "def BL(xi,i):\n",
    "    n=len(xi)\n",
    "    #print(n)\n",
    "    return lambda x:prod(([x-xi[j] for j in range(n) if j!=i]))\n",
    "for i in range(10):\n",
    "    print (BL([0,1,2,3,4,5,6,7,8,9], i)(x))"
   ]
  },
  {
   "cell_type": "code",
   "execution_count": 46,
   "metadata": {
    "collapsed": false
   },
   "outputs": [],
   "source": [
    "dessin=plot(pl1(x),pl2(x),(x,-1,4),ylim=(0,25))"
   ]
  },
  {
   "cell_type": "markdown",
   "metadata": {},
   "source": [
    "Reprendre les calcules de la feuille 2 sur les polynômes de Lagrange. "
   ]
  },
  {
   "cell_type": "code",
   "execution_count": null,
   "metadata": {
    "collapsed": true
   },
   "outputs": [],
   "source": []
  },
  {
   "cell_type": "markdown",
   "metadata": {},
   "source": [
    "# polynômes de Newton "
   ]
  },
  {
   "cell_type": "code",
   "execution_count": null,
   "metadata": {
    "collapsed": true
   },
   "outputs": [],
   "source": [
    "##exo3 coureur à pied\n",
    "A=Matrix(3,3,[1,1,1,4,2,1,9,3,1])\n",
    "B=Matrix(3,1,[60,130,250])\n",
    "print(A.inv()*B)"
   ]
  },
  {
   "cell_type": "code",
   "execution_count": null,
   "metadata": {
    "collapsed": true
   },
   "outputs": [],
   "source": [
    "##exo 3 coureur à pied\n",
    "pn1=NewtonPoly(500,500,[60,130,250])\n",
    "print(pn1(x))\n",
    "print(expand(pn1(x)))\n",
    "print(pn1(2000))\n",
    "######\n",
    "pn2=NewtonPoly(500,500,[60,130,250,350])\n",
    "print(pn2(x))\n",
    "print(expand(pn2(x)))\n",
    "print(pn2(2000))\n",
    "######\n",
    "plot(pn1(x),(x,-500,2500),ylim=(-200,1000))"
   ]
  },
  {
   "cell_type": "code",
   "execution_count": null,
   "metadata": {
    "collapsed": true
   },
   "outputs": [],
   "source": [
    "##exo 3 coureur à pied avec changement d'unité \n",
    "pn1=NewtonPoly(1,1,[60,130,250])\n",
    "print(pn1(x))\n",
    "print(expand(pn1(x)))\n",
    "print(pn1(4))\n",
    "######\n",
    "pn2=NewtonPoly(1,1,[60,130,250,350])\n",
    "print(pn2(x))\n",
    "print(expand(pn2(x)))\n",
    "print(pn2(4))\n",
    "############\n",
    "pn3=NewtonPoly(0,1,[0,60,130,250,350])\n",
    "print(pn3(x))\n",
    "print(expand(pn3(x)))\n",
    "############\n",
    "plot(pn1(x),pn2(x),pn3(x),(x,-0.5,4.5),ylim=(-50,500))"
   ]
  },
  {
   "cell_type": "code",
   "execution_count": null,
   "metadata": {
    "collapsed": true
   },
   "outputs": [],
   "source": [
    "pl3a=PL([1,2,3],[60,120,250])\n",
    "pl3b=PL([1,2,3,4],[60,120,250,350])\n",
    "pl3c=PL([0,1,2,3,4],[0,60,120,250,350])"
   ]
  },
  {
   "cell_type": "code",
   "execution_count": null,
   "metadata": {
    "collapsed": true
   },
   "outputs": [],
   "source": []
  },
  {
   "cell_type": "code",
   "execution_count": null,
   "metadata": {
    "collapsed": true
   },
   "outputs": [],
   "source": []
  },
  {
   "cell_type": "code",
   "execution_count": null,
   "metadata": {
    "collapsed": true
   },
   "outputs": [],
   "source": []
  }
 ],
 "metadata": {
  "kernelspec": {
   "display_name": "Python 3",
   "language": "python",
   "name": "python3"
  },
  "language_info": {
   "codemirror_mode": {
    "name": "ipython",
    "version": 3
   },
   "file_extension": ".py",
   "mimetype": "text/x-python",
   "name": "python",
   "nbconvert_exporter": "python",
   "pygments_lexer": "ipython3",
   "version": "3.4.2"
  }
 },
 "nbformat": 4,
 "nbformat_minor": 2
}
