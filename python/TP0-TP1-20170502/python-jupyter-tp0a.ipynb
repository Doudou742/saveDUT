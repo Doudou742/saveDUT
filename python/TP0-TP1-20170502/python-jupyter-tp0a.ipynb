{
 "cells": [
  {
   "cell_type": "markdown",
   "metadata": {},
   "source": [
    "# Jupyter, Python : présentation \n",
    "** à faire sur vidéo-projecteur, en salle de TD ? **\n",
    "\n",
    "## Python  \n",
    "Historique : https://fr.wikipedia.org/wiki/Python_(langage)\n",
    "\n",
    "Nous utilisons pour ces TP `python3` - attention il n'y a pas de compatibilité ascendante entre `python2` et `python3`...\n",
    "\n",
    "## Jupyter\n",
    "[Jupyter](http://www.jupyter.org) aup,aravant nommé [*iPython*](https://en.wikipedia.org/wiki/IPython#Project_Jupyter)   pour *i*nteractive *Python*,  est à la fois un serveur WEB et un serveur de calcul qui permet une expérimentation facile de certains langages - et tout d'abord Python. En particulier on peut intercaler dans les *notebook*s (que nous traduisons par *calepin*) des cellules de calcul et des cellules de texte - plus exactement des cellules `Markdown`. \n",
    "\n",
    "## dans nos salles de TP\n",
    "La distribution installée est dénommée *anaconda* que vous pouvez aussi obtenir sur https://www.continuum.io/downloads (privilégiez la version `python3` que nous avons installée en salles de TP).  \n",
    "\n",
    "Les noyaux de calcul installés dans nos salles TP sont `python2`, `python3`,  `bash`, `R`. D'autres noyaux sont disponibles, dont `Javascript`, `Java9`...\n",
    "\n",
    "## pourquoi utiliser Python à l'IUT\n",
    "\n",
    "* Facililé apparente pour un débutant... et pour  un prof de maths \n",
    "* Supporte de nombreux styles de programmation : impératif, objet, fonctionnel...\n",
    "* Présence de très nombreuses bibliothèques : il est facile d'interfacer des outils de calculs avec Python, par exemple en maths ou en sciences de l'ingénieur\n",
    "    * `iPython` et son successeur `Jupyter` pour une interface confortable dans un cadre pédagogique\n",
    "    * `sympy` pour le calcul symbolique (ou calcul formel)\n",
    "    * `numpy` pour le calcul numérique en particulier pour le calcul matriciel\n",
    "    * `pandas` pour l'analyse de données...\n",
    "* Python est aussi très largement utilisé dans des domaines très variés de l'informatique, par exemple par des administrateurs système ou pour la création de serveurs d'applications WEB (Zope, Pyramid, Django... \n",
    "ce dernier par exemple chez [Instagram](https://engineering.instagram.com/what-powers-instagram-hundreds-of-instances-dozens-of-technologies-adf2e22da2ad))\n",
    "\n",
    "## pourquoi ne pas utiliser Python à l'IUT\n",
    "\n",
    "* Trop de facililités... et donc risque de prendre de très mauvaises habitudes : il est très facile de mal programmer en Python.  \n",
    "## mise en garde\n",
    "N'oubliez pas que lors des TD et des contrôles, vous devrez être **capable d'utiliser votre calculette pour résoudre les exercices et problèmes proposés**. \n",
    "\n",
    "# Premiers calepins Jupyter\n",
    "Les calculs sous jupyter sont enregistrés dans des documents appelés *calepins* ou *notebooks* (suffixe `.ipynnb`). \n",
    "\n",
    "Dans un terminal lancer la commande `jupyter notebook` et choisissez le langage (bash, R, python3, python2...)\n",
    "\n",
    "# Activité 1 : un notebook `bash` \n",
    "Lancez un notebook `bash` puis : \n",
    "- exécutez une cellule de calcul avec la commande `pwd`\n",
    "- on exécute le cellule courante en cliquant sur ${\\triangleright}$ ou, au clavier,  par \"majuscule-retour\" (on crée alors une nouvelle cellule de calcul,   par \"commande-retour\" ou \"contrôle-retour\", on exécute alors la cellule actuelle sans en crér de nouvelle selon les modèles de PC.\n",
    "- précédez d'une cellule Markdown commentaire\n",
    "- exécutez dans une nouvelle cellule `cd ..` puis ré-exécutez `pwd` : que constatez-vous ? \n",
    "- renommez votre calepin, sauvegardez-le, fermez-le, rouvrez-le...\n",
    "\n",
    "Dans un calepin `python`, vous pouvez exécuter des commande `bash` en commençant la cellule par la \"commande magique\" `%%bash` : "
   ]
  },
  {
   "cell_type": "code",
   "execution_count": 1,
   "metadata": {},
   "outputs": [
    {
     "name": "stdout",
     "output_type": "stream",
     "text": [
      "/Users/msc/hdDocuments/en_cours\n"
     ]
    }
   ],
   "source": [
    "%%bash\n",
    "pwd"
   ]
  },
  {
   "cell_type": "code",
   "execution_count": 2,
   "metadata": {},
   "outputs": [
    {
     "name": "stdout",
     "output_type": "stream",
     "text": [
      "/Users/msc/hdDocuments\n"
     ]
    }
   ],
   "source": [
    "%%bash\n",
    "cd ..\n",
    "pwd"
   ]
  },
  {
   "cell_type": "code",
   "execution_count": 3,
   "metadata": {},
   "outputs": [
    {
     "name": "stdout",
     "output_type": "stream",
     "text": [
      "/Users/msc\n"
     ]
    }
   ],
   "source": [
    "%%bash \n",
    "cd \n",
    "pwd"
   ]
  },
  {
   "cell_type": "markdown",
   "metadata": {},
   "source": [
    "# activité 2 : un premier calepin `python3`\n",
    "Créez un nouveau calepin python3, donnez-lui un nom, puis partez à la découverte de Python.\n",
    "\n",
    "## Les opérations courantes entre entiers \n",
    "(quand on exécute une cellule, le dernier objet calculé est affiché)"
   ]
  },
  {
   "cell_type": "code",
   "execution_count": 4,
   "metadata": {},
   "outputs": [
    {
     "data": {
      "text/plain": [
       "42435"
      ]
     },
     "execution_count": 4,
     "metadata": {},
     "output_type": "execute_result"
    }
   ],
   "source": [
    "123*345"
   ]
  },
  {
   "cell_type": "code",
   "execution_count": 5,
   "metadata": {},
   "outputs": [
    {
     "data": {
      "text/plain": [
       "x**2"
      ]
     },
     "execution_count": 5,
     "metadata": {},
     "output_type": "execute_result"
    }
   ],
   "source": [
    "from sympy import Symbol\n",
    "x=Symbol('x')\n",
    "x**2"
   ]
  },
  {
   "cell_type": "markdown",
   "metadata": {},
   "source": [
    "La commande suivante permet d'afficher les résultas des calculs en `LaTeX` --- en fait en `jsmath`. Nous vous recommandanons de ne pas l'utiliser dans un premier temps"
   ]
  },
  {
   "cell_type": "code",
   "execution_count": 6,
   "metadata": {},
   "outputs": [
    {
     "data": {
      "text/plain": [
       "x**2"
      ]
     },
     "execution_count": 6,
     "metadata": {},
     "output_type": "execute_result"
    }
   ],
   "source": [
    "#init_printing()\n",
    "x**2"
   ]
  },
  {
   "cell_type": "code",
   "execution_count": 7,
   "metadata": {},
   "outputs": [
    {
     "data": {
      "text/plain": [
       "10405511812952707739731492191909310279808963525498753701928217916474886385941052560140442748734227867004377264381193268849497642332674520853680856731955339453782182000778572151915790183661428467128191156971185624751935558289235984940694575565357994647339478839262837633763628658085954923398402686359044635713314379871020068920843439705539639865845542678396366997528225532901486943708850217594261505335374752382964791075336794926116981773941103271997692404273885620938767016939887541682816056715874460198070088979100602619116772941858954918892595612021144861019975790300211490229075108891680089852245938818504839824260547929975904862425499924981169864416389299692481118813598785342001910981692356232252220864017249850782043"
      ]
     },
     "execution_count": 7,
     "metadata": {},
     "output_type": "execute_result"
    }
   ],
   "source": [
    "123**345"
   ]
  },
  {
   "cell_type": "code",
   "execution_count": 8,
   "metadata": {},
   "outputs": [
    {
     "data": {
      "text/plain": [
       "(1789, 100, 1889, 1689, 178900, 17.89, 17, 89)"
      ]
     },
     "execution_count": 8,
     "metadata": {},
     "output_type": "execute_result"
    }
   ],
   "source": [
    "a,b=1789,100\n",
    "# Notez la différence entre dividsion entière te division flottante. \n",
    "a,b,a+b,a-b,a*b,a/b,a//b,a%b"
   ]
  },
  {
   "cell_type": "markdown",
   "metadata": {},
   "source": [
    "## typage dynamique\n",
    "On a créé ci-dessus deux variables en parallèle, on aurait aussi pu écrire :"
   ]
  },
  {
   "cell_type": "code",
   "execution_count": 9,
   "metadata": {},
   "outputs": [
    {
     "data": {
      "text/plain": [
       "(1789, 100, 1889, 1689, 178900, 17.89, 17, 89)"
      ]
     },
     "execution_count": 9,
     "metadata": {},
     "output_type": "execute_result"
    }
   ],
   "source": [
    "a=1789\n",
    "b=100\n",
    "a,b,a+b,a-b,a*b,a/b,a//b,a%b"
   ]
  },
  {
   "cell_type": "markdown",
   "metadata": {},
   "source": [
    "Cette affectation en parallèle permet de réaliser élégamment un échange entre variables : "
   ]
  },
  {
   "cell_type": "code",
   "execution_count": 10,
   "metadata": {},
   "outputs": [
    {
     "name": "stdout",
     "output_type": "stream",
     "text": [
      "1789 100\n",
      "100 1789\n"
     ]
    }
   ],
   "source": [
    "a,b=1789,100\n",
    "print(a,b)\n",
    "a,b=b,a\n",
    "print(a,b)"
   ]
  },
  {
   "cell_type": "markdown",
   "metadata": {},
   "source": [
    "Les objets sont typés lors de leur création, mais on n'a pas à déclarer le type des variables. \n",
    "Par contre on ne peut utiliser une variable non déclarée : "
   ]
  },
  {
   "cell_type": "code",
   "execution_count": 11,
   "metadata": {},
   "outputs": [
    {
     "name": "stdout",
     "output_type": "stream",
     "text": [
      "3 45.67 je suis un texte écrit en unicode\n"
     ]
    }
   ],
   "source": [
    "a=3\n",
    "b=45.67\n",
    "c=\"je suis un texte écrit en unicode\"\n",
    "print(a,b,c)"
   ]
  },
  {
   "cell_type": "code",
   "execution_count": 12,
   "metadata": {},
   "outputs": [
    {
     "ename": "NameError",
     "evalue": "name 'd' is not defined",
     "output_type": "error",
     "traceback": [
      "\u001b[0;31m---------------------------------------------------------------------------\u001b[0m",
      "\u001b[0;31mNameError\u001b[0m                                 Traceback (most recent call last)",
      "\u001b[0;32m<ipython-input-12-9909575fff82>\u001b[0m in \u001b[0;36m<module>\u001b[0;34m()\u001b[0m\n\u001b[0;32m----> 1\u001b[0;31m \u001b[0mprint\u001b[0m\u001b[0;34m(\u001b[0m\u001b[0md\u001b[0m\u001b[0;34m)\u001b[0m\u001b[0;34m\u001b[0m\u001b[0m\n\u001b[0m",
      "\u001b[0;31mNameError\u001b[0m: name 'd' is not defined"
     ]
    }
   ],
   "source": [
    "print(d)"
   ]
  },
  {
   "cell_type": "markdown",
   "metadata": {},
   "source": [
    "Voici comment créer des sorties textes un peu plus élégantes : "
   ]
  },
  {
   "cell_type": "code",
   "execution_count": 13,
   "metadata": {},
   "outputs": [
    {
     "name": "stdout",
     "output_type": "stream",
     "text": [
      "a est l'entier 3, b est le flottant 45.67 et c est la chaîne 'je suis un texte écrit en unicode'\n"
     ]
    }
   ],
   "source": [
    "print(\"a est l'entier %s, b est le flottant %s et c est la chaîne '%s'\"%(a,b,c))"
   ]
  },
  {
   "cell_type": "code",
   "execution_count": 14,
   "metadata": {},
   "outputs": [
    {
     "name": "stdout",
     "output_type": "stream",
     "text": [
      "a est l'entier 3, b est le flottant 45.670000 et c est la chaîne 'je suis un texte écrit en unicode'\n"
     ]
    }
   ],
   "source": [
    "print(\"a est l'entier %s, b est le flottant %6.6f et c est la chaîne '%s'\"%(a,b,c))"
   ]
  },
  {
   "cell_type": "markdown",
   "metadata": {},
   "source": [
    "### structures courantes \n",
    "Les structures les plus utilisées sont les listes, les tuples et les dictionnaires"
   ]
  },
  {
   "cell_type": "code",
   "execution_count": 15,
   "metadata": {},
   "outputs": [
    {
     "name": "stdout",
     "output_type": "stream",
     "text": [
      "3 6\n",
      "45.67 91.34\n",
      "je suis un texte écrit en unicode je suis un texte écrit en unicodeje suis un texte écrit en unicode\n",
      "==================================================\n",
      "3 6\n",
      "45.67 91.34\n",
      "je suis un texte écrit en unicode je suis un texte écrit en unicodeje suis un texte écrit en unicode\n"
     ]
    }
   ],
   "source": [
    "laliste=[a,b,c]\n",
    "for i in laliste : \n",
    "    print(i,i*2)\n",
    "print(\"=\"*50)\n",
    "letuple=(a,b,c)\n",
    "for i in letuple : \n",
    "    print(i,i*2)"
   ]
  },
  {
   "cell_type": "markdown",
   "metadata": {},
   "source": [
    "Quelle différence alors ? les tuples sont *immutables* càd qu'ils peuvent êtres utilisés comme clefs de dictionnaires..."
   ]
  },
  {
   "cell_type": "markdown",
   "metadata": {},
   "source": [
    "## listes définies en compréhension\n",
    "ON utilisera souvent cette manière de créeer des listes : "
   ]
  },
  {
   "cell_type": "code",
   "execution_count": 16,
   "metadata": {},
   "outputs": [
    {
     "name": "stdout",
     "output_type": "stream",
     "text": [
      "[14, 7, 1789, 14, 9, 1515]\n",
      "[14, 7, 1789, 14, 9, 1515]\n",
      "[196, 49, 3200521, 196, 81, 2295225]\n",
      "[14, 7, 14, 9]\n",
      "[196, 49, 196, 81]\n"
     ]
    }
   ],
   "source": [
    "ll=[14,7,1789,14,9,1515]\n",
    "print(ll)\n",
    "print([x for x in ll])\n",
    "print([x**2 for x in ll])\n",
    "print([x for x in ll if x<1000])\n",
    "print([x**2 for x in ll if x<1000])"
   ]
  },
  {
   "cell_type": "markdown",
   "metadata": {},
   "source": [
    "L'itérateur `range` permet de créer des listes d'entiers à pas constant. N'hésitez pas à exécviuter `range?` dans une cellule pour obtenir une aide rapide."
   ]
  },
  {
   "cell_type": "code",
   "execution_count": 17,
   "metadata": {},
   "outputs": [
    {
     "name": "stdout",
     "output_type": "stream",
     "text": [
      "[0, 1, 2, 3, 4, 5, 6, 7, 8, 9]\n",
      "[3, 4, 5, 6, 7, 8, 9]\n",
      "[3, 5, 7, 9]\n",
      "[10, 9, 8, 7, 6, 5, 4]\n"
     ]
    }
   ],
   "source": [
    "print([i for i in range(10)])\n",
    "print([i for i in range(3,10)])\n",
    "print([i for i in range(3,10,2)])\n",
    "print([i for i in range(10,3,-1)])"
   ]
  },
  {
   "cell_type": "code",
   "execution_count": 18,
   "metadata": {},
   "outputs": [
    {
     "name": "stdout",
     "output_type": "stream",
     "text": [
      "[2, 3, 5, 7, 11, 13, 17, 19, 23, 29, 31, 37, 41, 43, 47, 53, 59, 61, 67, 71, 73, 79, 83, 89, 97, 101, 103, 107, 109, 113, 127, 131, 137, 139, 149, 151, 157, 163, 167, 173, 179, 181, 191, 193, 197, 199, 211, 223, 227, 229, 233, 239, 241, 251, 257, 263, 269, 271, 277, 281, 283, 293, 307, 311, 313, 317, 331, 337, 347, 349, 353, 359, 367, 373, 379, 383, 389, 397, 401, 409, 419, 421, 431, 433, 439, 443, 449, 457, 461, 463, 467, 479, 487, 491, 499, 503, 509, 521, 523, 541, 547, 557, 563, 569, 571, 577, 587, 593, 599, 601, 607, 613, 617, 619, 631, 641, 643, 647, 653, 659, 661, 673, 677, 683, 691, 701, 709, 719, 727, 733, 739, 743, 751, 757, 761, 769, 773, 787, 797, 809, 811, 821, 823, 827, 829, 839, 853, 857, 859, 863, 877, 881, 883, 887, 907, 911, 919, 929, 937, 941, 947, 953, 967, 971, 977, 983, 991, 997]\n"
     ]
    }
   ],
   "source": [
    "from sympy import isprime\n",
    "print([i for i in range(1000) if isprime(i)])"
   ]
  },
  {
   "cell_type": "markdown",
   "metadata": {},
   "source": [
    "Nous utiliserons dans la suite les fonctions `sum` et `prod` qui calculent la somme et le produit des éléments d'une liste : "
   ]
  },
  {
   "cell_type": "code",
   "execution_count": 19,
   "metadata": {},
   "outputs": [
    {
     "name": "stdout",
     "output_type": "stream",
     "text": [
      "3348\n"
     ]
    },
    {
     "ename": "NameError",
     "evalue": "name 'prod' is not defined",
     "output_type": "error",
     "traceback": [
      "\u001b[0;31m---------------------------------------------------------------------------\u001b[0m",
      "\u001b[0;31mNameError\u001b[0m                                 Traceback (most recent call last)",
      "\u001b[0;32m<ipython-input-19-c227a7722b74>\u001b[0m in \u001b[0;36m<module>\u001b[0;34m()\u001b[0m\n\u001b[1;32m      1\u001b[0m \u001b[0mprint\u001b[0m\u001b[0;34m(\u001b[0m\u001b[0msum\u001b[0m\u001b[0;34m(\u001b[0m\u001b[0mll\u001b[0m\u001b[0;34m)\u001b[0m\u001b[0;34m)\u001b[0m\u001b[0;34m\u001b[0m\u001b[0m\n\u001b[0;32m----> 2\u001b[0;31m \u001b[0mprint\u001b[0m\u001b[0;34m(\u001b[0m\u001b[0mprod\u001b[0m\u001b[0;34m(\u001b[0m\u001b[0mll\u001b[0m\u001b[0;34m)\u001b[0m\u001b[0;34m)\u001b[0m\u001b[0;34m\u001b[0m\u001b[0m\n\u001b[0m",
      "\u001b[0;31mNameError\u001b[0m: name 'prod' is not defined"
     ]
    }
   ],
   "source": [
    "print(sum(ll))\n",
    "print(prod(ll))"
   ]
  },
  {
   "cell_type": "markdown",
   "metadata": {},
   "source": [
    "Caramba, ça ne marche pas, la fonction `prod` n'est disponible que dans des bibliothèques externes comme `sympy`..."
   ]
  },
  {
   "cell_type": "code",
   "execution_count": 20,
   "metadata": {},
   "outputs": [
    {
     "name": "stdout",
     "output_type": "stream",
     "text": [
      "3348\n",
      "33467216580\n"
     ]
    }
   ],
   "source": [
    "from sympy import prod\n",
    "print(sum(ll))\n",
    "print(prod(ll))"
   ]
  },
  {
   "cell_type": "markdown",
   "metadata": {},
   "source": [
    "### comment obtenir de l'aide en ligne ?"
   ]
  },
  {
   "cell_type": "code",
   "execution_count": 21,
   "metadata": {
    "collapsed": true
   },
   "outputs": [],
   "source": [
    "prod?"
   ]
  },
  {
   "cell_type": "code",
   "execution_count": 22,
   "metadata": {},
   "outputs": [
    {
     "name": "stdout",
     "output_type": "stream",
     "text": [
      "[1, 2, 3, 4, 5, 6, 7, 8, 9, 10] 55 3628800\n",
      "3628800\n"
     ]
    }
   ],
   "source": [
    "ll=[i for i in range(1,11)]\n",
    "print(ll,sum(ll),prod(ll))\n",
    "from sympy import factorial\n",
    "print(factorial(10))"
   ]
  },
  {
   "cell_type": "markdown",
   "metadata": {},
   "source": [
    "Remarquez que dans un langage plus classique on écrirait quelque chose comme : "
   ]
  },
  {
   "cell_type": "code",
   "execution_count": 23,
   "metadata": {},
   "outputs": [
    {
     "name": "stdout",
     "output_type": "stream",
     "text": [
      "55 3628800\n"
     ]
    }
   ],
   "source": [
    "s,p=0,1\n",
    "for i in range(1,11): \n",
    "    s+=i\n",
    "    p*=i\n",
    "print(s,p)"
   ]
  },
  {
   "cell_type": "markdown",
   "metadata": {},
   "source": [
    "En détaillant un peu plus : "
   ]
  },
  {
   "cell_type": "code",
   "execution_count": 24,
   "metadata": {},
   "outputs": [
    {
     "name": "stdout",
     "output_type": "stream",
     "text": [
      "       i   s        p\n",
      "   avant   0        1\n",
      "       1   1        1\n",
      "       2   3        2\n",
      "       3   6        6\n",
      "       4  10       24\n",
      "       5  15      120\n",
      "       6  21      720\n",
      "       7  28     5040\n",
      "       8  36    40320\n",
      "       9  45   362880\n",
      "      10  55  3628800\n"
     ]
    }
   ],
   "source": [
    "s,p=0,1\n",
    "print(\"%8s %3s %8s\"%(\"i\",\"s\",\"p\"))\n",
    "print(\"%8s %3s %8s\"%(\"avant\",s,p))\n",
    "for i in range(1,11): \n",
    "    s+=i\n",
    "    p*=i\n",
    "    print(\"%8s %3s %8s\"%(i,s,p))"
   ]
  },
  {
   "cell_type": "markdown",
   "metadata": {},
   "source": [
    "### dictionnaires"
   ]
  },
  {
   "cell_type": "code",
   "execution_count": 25,
   "metadata": {},
   "outputs": [
    {
     "name": "stdout",
     "output_type": "stream",
     "text": [
      "{1: 'un', 2: 'deux', 7: 'sept', 70: 'septante'}\n",
      "septante\n"
     ]
    }
   ],
   "source": [
    "ledico={1:'un',2:'deux',7:'sept',70:'septante'}\n",
    "print(ledico)\n",
    "print(ledico[70])"
   ]
  },
  {
   "cell_type": "code",
   "execution_count": 26,
   "metadata": {},
   "outputs": [
    {
     "ename": "KeyError",
     "evalue": "90",
     "output_type": "error",
     "traceback": [
      "\u001b[0;31m---------------------------------------------------------------------------\u001b[0m",
      "\u001b[0;31mKeyError\u001b[0m                                  Traceback (most recent call last)",
      "\u001b[0;32m<ipython-input-26-a4c45f58ce1e>\u001b[0m in \u001b[0;36m<module>\u001b[0;34m()\u001b[0m\n\u001b[0;32m----> 1\u001b[0;31m \u001b[0mprint\u001b[0m\u001b[0;34m(\u001b[0m\u001b[0mledico\u001b[0m\u001b[0;34m[\u001b[0m\u001b[0;36m90\u001b[0m\u001b[0;34m]\u001b[0m\u001b[0;34m)\u001b[0m\u001b[0;34m\u001b[0m\u001b[0m\n\u001b[0m",
      "\u001b[0;31mKeyError\u001b[0m: 90"
     ]
    }
   ],
   "source": [
    "print(ledico[90])"
   ]
  },
  {
   "cell_type": "code",
   "execution_count": 27,
   "metadata": {},
   "outputs": [
    {
     "name": "stdout",
     "output_type": "stream",
     "text": [
      "soixante-dix\n",
      "quatre-vingt-dix\n"
     ]
    }
   ],
   "source": [
    "ledico[70]='soixante-dix'\n",
    "ledico[90]='quatre-vingt-dix'\n",
    "print(ledico[70])\n",
    "print(ledico[90])"
   ]
  },
  {
   "cell_type": "markdown",
   "metadata": {
    "collapsed": true
   },
   "source": [
    "### boucle `for` et indentation\n",
    "C'est l'**indentation** qui crée les blocs d'instructions (rôle des accolades en `Java` ou en `C`)...\n",
    "\n",
    "Veuillez produire l'affichage suivant : \n",
    "\n",
    "        couplet 1\n",
    "        refrain\n",
    "        couplet 2\n",
    "        refrain\n",
    "        couplet 3\n",
    "        refrain\n",
    "        clap clap clap "
   ]
  },
  {
   "cell_type": "code",
   "execution_count": 28,
   "metadata": {},
   "outputs": [
    {
     "name": "stdout",
     "output_type": "stream",
     "text": [
      "0\n",
      "1\n",
      "2\n",
      "3\n",
      "==================================================\n",
      "1\n",
      "2\n",
      "3\n",
      "==================================================\n",
      "essai 1\n",
      "essai 2\n",
      "essai 3\n",
      "==================================================\n",
      "essai 1\n",
      "refrain\n",
      "essai 2\n",
      "refrain\n",
      "essai 3\n",
      "refrain\n",
      "clap clap clap \n"
     ]
    }
   ],
   "source": [
    "# essai 1\n",
    "for i in range(4) : \n",
    "    print(i)\n",
    "#\n",
    "print(\"=\"*50)\n",
    "# essai 2\n",
    "for i in range(1,4) : \n",
    "    print(i)\n",
    "#\n",
    "print(\"=\"*50)\n",
    "# essai 3\n",
    "for i in range(1,4) : \n",
    "    print(\"essai %s\"%i)\n",
    "#\n",
    "print(\"=\"*50)\n",
    "# essai 4\n",
    "for i in range(1,4) : \n",
    "    print(\"essai %s\"%i)\n",
    "    print(\"refrain\")\n",
    "print(\"clap \"*3)"
   ]
  },
  {
   "cell_type": "markdown",
   "metadata": {
    "collapsed": true
   },
   "source": [
    "On dispose d'autres structures de contrôle : `while`, `if`, ...\n",
    "\n",
    "### fonctions\n",
    "Deux rédactions : `lambda` et `def`, par exemple pour créer la fonction $f = x \\mapsto x^2+x+4$ : "
   ]
  },
  {
   "cell_type": "code",
   "execution_count": 29,
   "metadata": {},
   "outputs": [
    {
     "name": "stdout",
     "output_type": "stream",
     "text": [
      "f(0) = 4\n",
      "f(1) = 6\n",
      "f(2) = 10\n"
     ]
    }
   ],
   "source": [
    "f = lambda x : x**2+x+4\n",
    "for i in range(3) : \n",
    "    print('f(%s) = %s'%(i,f(i)))"
   ]
  },
  {
   "cell_type": "code",
   "execution_count": 30,
   "metadata": {},
   "outputs": [
    {
     "name": "stdout",
     "output_type": "stream",
     "text": [
      "f(0) = 4\n",
      "f(1) = 6\n",
      "f(2) = 10\n"
     ]
    }
   ],
   "source": [
    "def f(x) : \n",
    "    y = x**2+x+4\n",
    "    return y\n",
    "for i in range(3) : \n",
    "    print('f(%s) = %s'%(i,f(i)))"
   ]
  },
  {
   "cell_type": "markdown",
   "metadata": {},
   "source": [
    "ou encore : "
   ]
  },
  {
   "cell_type": "code",
   "execution_count": 31,
   "metadata": {},
   "outputs": [
    {
     "name": "stdout",
     "output_type": "stream",
     "text": [
      "f(0) = 4\n",
      "f(1) = 6\n",
      "f(2) = 10\n"
     ]
    }
   ],
   "source": [
    "def f(x) : \n",
    "    return x**2+x+4\n",
    "for i in range(3) : \n",
    "    print('f(%s) = %s'%(i,f(i)))"
   ]
  },
  {
   "cell_type": "markdown",
   "metadata": {},
   "source": [
    "On peut avoir plusieurs paramètres et retourner plusieurs valeurs : "
   ]
  },
  {
   "cell_type": "code",
   "execution_count": 32,
   "metadata": {},
   "outputs": [
    {
     "name": "stdout",
     "output_type": "stream",
     "text": [
      "(1, 2) (3, 2)\n",
      "(3, 4) (7, 12)\n",
      "(5, 6) (11, 30)\n"
     ]
    }
   ],
   "source": [
    "somme_et_produit = lambda x1,x2 : (x1+x2,x1*x2)\n",
    "for (i1,i2) in [(1,2),(3,4),(5,6)] : \n",
    "    print ((i1,i2),somme_et_produit(i1,i2))"
   ]
  },
  {
   "cell_type": "code",
   "execution_count": 33,
   "metadata": {},
   "outputs": [
    {
     "name": "stdout",
     "output_type": "stream",
     "text": [
      "(1, 2) (3, 2)\n",
      "(3, 4) (7, 12)\n",
      "(5, 6) (11, 30)\n"
     ]
    }
   ],
   "source": [
    "def somme_et_produit(x1,x2) : \n",
    "    return (x1+x2,x1*x2)\n",
    "for (i1,i2) in [(1,2),(3,4),(5,6)] : \n",
    "    print ((i1,i2),somme_et_produit(i1,i2))"
   ]
  },
  {
   "cell_type": "markdown",
   "metadata": {},
   "source": [
    "On peut aussi accepter un nombre variables d'arguments, mais c'est un peu plus compliqué...\n",
    "\n",
    "Les variables locales à une fonction sont bien entendu invisibles à l'extérieur de la fonction : "
   ]
  },
  {
   "cell_type": "code",
   "execution_count": 34,
   "metadata": {},
   "outputs": [
    {
     "name": "stdout",
     "output_type": "stream",
     "text": [
      "trucmuche\n",
      "f(0) = 4\n",
      "f(1) = 6\n",
      "f(2) = 10\n",
      "trucmuche\n"
     ]
    }
   ],
   "source": [
    "def f(x) : \n",
    "    y = x**2+x+4\n",
    "    return y\n",
    "#####\n",
    "y=\"trucmuche\"\n",
    "print(y)\n",
    "for i in range(3) : \n",
    "    print('f(%s) = %s'%(i,f(i))) \n",
    "print(y)"
   ]
  },
  {
   "cell_type": "markdown",
   "metadata": {},
   "source": [
    "## classes\n",
    "TODO\n",
    "\n",
    "Python — et plus particulièrement `python3` est un **langage à objets** à part entière, permettant le multi-héritage et la suRcharge des opérateurs, entre autres caractéristiques agréables au mathématiocien ou à l'ingénieur... Nous laissons toutefois pour l'instant de côté ce point imortant mais qu'on ne peut traiter trop rapidement. "
   ]
  },
  {
   "cell_type": "code",
   "execution_count": null,
   "metadata": {
    "collapsed": true
   },
   "outputs": [],
   "source": []
  },
  {
   "cell_type": "code",
   "execution_count": null,
   "metadata": {
    "collapsed": true
   },
   "outputs": [],
   "source": []
  },
  {
   "cell_type": "code",
   "execution_count": null,
   "metadata": {
    "collapsed": true
   },
   "outputs": [],
   "source": []
  }
 ],
 "metadata": {
  "kernelspec": {
   "display_name": "Python 3",
   "language": "python",
   "name": "python3"
  },
  "language_info": {
   "codemirror_mode": {
    "name": "ipython",
    "version": 3
   },
   "file_extension": ".py",
   "mimetype": "text/x-python",
   "name": "python",
   "nbconvert_exporter": "python",
   "pygments_lexer": "ipython3",
   "version": "3.6.0"
  }
 },
 "nbformat": 4,
 "nbformat_minor": 2
}
