{
 "cells": [
  {
   "cell_type": "markdown",
   "metadata": {},
   "source": [
    "\n",
    "# jupyter - activité 3 :  usage de `sympy` \n",
    "Sauvegardez et fermez le calepin précédent et créez en un nouveau, donnez lui un nom. \n",
    "\n",
    "On commence par importer une bibliothèque de calcul symbolique. La cellule suivante permettra que les dessins soient insérés dans le calepin et non pas créés dans une nouvelle fenêtre. "
   ]
  },
  {
   "cell_type": "code",
   "execution_count": 1,
   "metadata": {
    "collapsed": true
   },
   "outputs": [],
   "source": [
    "from sympy import *"
   ]
  },
  {
   "cell_type": "code",
   "execution_count": 2,
   "metadata": {
    "collapsed": true
   },
   "outputs": [],
   "source": [
    "%matplotlib inline"
   ]
  },
  {
   "cell_type": "code",
   "execution_count": 3,
   "metadata": {
    "collapsed": true
   },
   "outputs": [],
   "source": [
    "# En décommentant `init_printing()` on affiche les résultats en jsmath :\n",
    "# c'est certes plus joli mais c'est moins compréhensible...\n",
    "# init_printing()"
   ]
  },
  {
   "cell_type": "markdown",
   "metadata": {},
   "source": [
    "Nous créons deux variables symboliques et en profitons pour réviser une identité remarquable :"
   ]
  },
  {
   "cell_type": "code",
   "execution_count": 4,
   "metadata": {},
   "outputs": [
    {
     "name": "stdout",
     "output_type": "stream",
     "text": [
      "(a + b)**2\n",
      "a**2 + 2*a*b + b**2\n"
     ]
    }
   ],
   "source": [
    "a,b=Symbol('a'),Symbol('b')\n",
    "print((a+b)**2)\n",
    "print(expand((a+b)**2))"
   ]
  },
  {
   "cell_type": "markdown",
   "metadata": {},
   "source": [
    "On peut développer par `expand`... et factoriser par `factor` : "
   ]
  },
  {
   "cell_type": "code",
   "execution_count": 5,
   "metadata": {},
   "outputs": [
    {
     "data": {
      "text/plain": [
       "(a - 2)*(a**2 + 2*a + 4)"
      ]
     },
     "execution_count": 5,
     "metadata": {},
     "output_type": "execute_result"
    }
   ],
   "source": [
    "factor(a**3-8)"
   ]
  },
  {
   "cell_type": "code",
   "execution_count": 6,
   "metadata": {},
   "outputs": [
    {
     "data": {
      "text/plain": [
       "a**2 - 3"
      ]
     },
     "execution_count": 6,
     "metadata": {},
     "output_type": "execute_result"
    }
   ],
   "source": [
    "factor(a**2-3)"
   ]
  },
  {
   "cell_type": "code",
   "execution_count": 7,
   "metadata": {},
   "outputs": [
    {
     "data": {
      "text/plain": [
       "(a - sqrt(3))*(a + sqrt(3))"
      ]
     },
     "execution_count": 7,
     "metadata": {},
     "output_type": "execute_result"
    }
   ],
   "source": [
    "factor(a**2-3,extension=sqrt(3))"
   ]
  },
  {
   "cell_type": "markdown",
   "metadata": {},
   "source": [
    "mais ne rêvons pas : on ne sait que rarement factoriser des expressions, et `sympy` ne sait pas plus qu'un humain factoriser les expressions un peu trop complexes..."
   ]
  },
  {
   "cell_type": "markdown",
   "metadata": {},
   "source": [
    "### quelques exercices de la feuille de TD1 : polynômes"
   ]
  },
  {
   "cell_type": "code",
   "execution_count": 8,
   "metadata": {},
   "outputs": [
    {
     "name": "stdout",
     "output_type": "stream",
     "text": [
      "(X**3 + X**2 + X + 1) * (X - 1)  \n",
      " =  X**4 - 1   \n",
      "\n",
      "(X**3 - X**2 + X - 1) * (X + 1)  \n",
      " =  X**4 - 1   \n",
      "\n",
      "(4*X**3 + 3*X**2 + 2*X + 1) * (X**2 - 2*X + 1)  \n",
      " =  4*X**5 - 5*X**4 + 1   \n",
      "\n"
     ]
    }
   ],
   "source": [
    "X = Symbol('X')\n",
    "# exo 1 : produits de polynômes\n",
    "for (P,Q) in [(X**3+X**2+X+1,X-1),(X**3-X**2+X-1,X+1),(4*X**3+3*X**2+2*X+1,X**2-2*X+1)] : \n",
    "    print(\"(%s) * (%s)  \\n =  %s   \\n\"%(P,Q,simplify(P*Q)))"
   ]
  },
  {
   "cell_type": "code",
   "execution_count": 9,
   "metadata": {},
   "outputs": [
    {
     "name": "stdout",
     "output_type": "stream",
     "text": [
      "X**3 - 2*X + 1 divisé par X + 1 : \n",
      " quotient X**2 - X - 1\n",
      " reste    2\n",
      "\n",
      "X**5 - X**4 + 2*X**3 + X**2 + 4 divisé par X**2 - 1 : \n",
      " quotient X**3 - X**2 + 3*X\n",
      " reste    3*X + 4\n",
      "\n",
      "3*X**5 + 4*X**2 + 1 divisé par X**2 + 2*X + 3 : \n",
      " quotient 3*X**3 - 6*X**2 + 3*X + 16\n",
      " reste    -41*X - 47\n",
      "\n",
      "X**4 - X**3 + X - 2 divisé par X**2 - 2*X + 4 : \n",
      " quotient X**2 + X - 2\n",
      " reste    -7*X + 6\n",
      "\n"
     ]
    }
   ],
   "source": [
    "# exo 2 : divisions euclidiennes\n",
    "for (A,B) in [(X**3-2*X+1,X+1), (X**5-X**4+2*X**3+X**2+4,X**2-1), (3*X**5+4*X**2+1,X**2+2*X+3),(X**4-X**3+X-2,X**2-2*X+4)] : \n",
    "    print(\"%s divisé par %s : \\n quotient %s\\n reste    %s\\n\"%(A,B,pquo(A,B),prem(A,B)))"
   ]
  },
  {
   "cell_type": "code",
   "execution_count": 10,
   "metadata": {},
   "outputs": [
    {
     "name": "stdout",
     "output_type": "stream",
     "text": [
      "X**4 - 1 =  (X - 1)*(X + 1)*(X**2 + 1) \n",
      "= (X - 1)*(X + 1)*(X**2 + 1) \n",
      "\n",
      "X**3 - 3 =  X**3 - 3 \n",
      "= (X - 3**(1/3))*(X**2 + 3**(1/3)*X + 3**(2/3)) \n",
      "\n",
      "X**4 + 1 =  X**4 + 1 \n",
      "= (X**2 - sqrt(2)*X + 1)*(X**2 + sqrt(2)*X + 1) \n",
      "\n",
      "X**4 + X**2 + 1 =  (X**2 - X + 1)*(X**2 + X + 1) \n",
      "= (X**2 - X + 1)*(X**2 + X + 1) \n",
      "\n",
      "X**12 - 1 =  (X - 1)*(X + 1)*(X**2 + 1)*(X**2 - X + 1)*(X**2 + X + 1)*(X**4 - X**2 + 1) \n",
      "= (X - 1)*(X + 1)*(X**2 + 1)*(X**2 - X + 1)*(X**2 + X + 1)*(X**4 - X**2 + 1) \n",
      "\n"
     ]
    }
   ],
   "source": [
    "# exo 3 : factorisations...\n",
    "for P in [X**4-1,X**3-3,X**4+1,X**4+X**2+1,X**12-1]:\n",
    "    print( \"%s =  %s \\n= %s \\n\"%(P,factor(P),factor(P,extension=[sqrt(2),3**Rational(1,3)]) ))"
   ]
  },
  {
   "cell_type": "markdown",
   "metadata": {
    "collapsed": true
   },
   "source": [
    "Pour le dernier calcul, remarquons que le discriminant de $Y^2 - Y + 1$ est $(-1)^2-4\\times1\\times1=-3$..."
   ]
  },
  {
   "cell_type": "code",
   "execution_count": 11,
   "metadata": {},
   "outputs": [
    {
     "data": {
      "text/plain": [
       "(X**2 - sqrt(3)*X + 1)*(X**2 + sqrt(3)*X + 1)"
      ]
     },
     "execution_count": 11,
     "metadata": {},
     "output_type": "execute_result"
    }
   ],
   "source": [
    "factor(X**4 - X**2 + 1,extension=sqrt(3))"
   ]
  },
  {
   "cell_type": "code",
   "execution_count": 12,
   "metadata": {},
   "outputs": [
    {
     "data": {
      "text/plain": [
       "(X - 1)*(X + 1)*(X**2 + 1)*(X**2 - X + 1)*(X**2 + X + 1)*(X**2 - sqrt(3)*X + 1)*(X**2 + sqrt(3)*X + 1)"
      ]
     },
     "execution_count": 12,
     "metadata": {},
     "output_type": "execute_result"
    }
   ],
   "source": [
    "factor(X**12 - 1,extension=sqrt(3))"
   ]
  },
  {
   "cell_type": "markdown",
   "metadata": {},
   "source": [
    "Voici comment tracer une courbe de fonction : "
   ]
  },
  {
   "cell_type": "code",
   "execution_count": 13,
   "metadata": {},
   "outputs": [
    {
     "data": {
      "image/png": "[encoded data removed]",
      "text/plain": [
       "<matplotlib.figure.Figure at 0x112268e10>"
      ]
     },
     "metadata": {},
     "output_type": "display_data"
    },
    {
     "data": {
      "text/plain": [
       "<sympy.plotting.plot.Plot at 0x1122689e8>"
      ]
     },
     "execution_count": 13,
     "metadata": {},
     "output_type": "execute_result"
    }
   ],
   "source": [
    "x=Symbol('x')\n",
    "plot(sin(x))"
   ]
  },
  {
   "cell_type": "code",
   "execution_count": 14,
   "metadata": {},
   "outputs": [
    {
     "name": "stdout",
     "output_type": "stream",
     "text": [
      "f(0) = 4\n",
      "f(1) = 6\n",
      "f(2) = 10\n"
     ]
    },
    {
     "data": {
      "image/png": "[encoded data removed]",
      "text/plain": [
       "<matplotlib.figure.Figure at 0x1156ea208>"
      ]
     },
     "metadata": {},
     "output_type": "display_data"
    },
    {
     "data": {
      "text/plain": [
       "<sympy.plotting.plot.Plot at 0x1156d9828>"
      ]
     },
     "execution_count": 14,
     "metadata": {},
     "output_type": "execute_result"
    }
   ],
   "source": [
    "# exo 1 de la feuille de TD 2\n",
    "f = lambda x : x**2+1*x+4\n",
    "for i in range(3) : \n",
    "    print('f(%s) = %s'%(i,f(i)))\n",
    "plot(f(x),(x,-2,4))"
   ]
  },
  {
   "cell_type": "markdown",
   "metadata": {},
   "source": [
    "Dans l'exo 2 de la feuille 2, on calcule un polynôme de Newton : \n",
    "\n",
    "$$ n = x \\mapsto  4 + 2 x + x \\left(x - 1\\right) + \\frac{-10}{6} x \\left(x - 1\\right) \\left(x - 2\\right)   $$\n",
    "\n",
    "Quelle est sa forme développée ? "
   ]
  },
  {
   "cell_type": "code",
   "execution_count": 15,
   "metadata": {},
   "outputs": [
    {
     "name": "stdout",
     "output_type": "stream",
     "text": [
      "-1.66666666666667*x*(x - 2)*(x - 1) + x*(x - 1) + 2*x + 4\n"
     ]
    }
   ],
   "source": [
    "n = lambda x : 4 + 2*x + x*(x-1) + -10/6*x*(x-1)*(x-2)\n",
    "# n = lambda x : 4 + 2*x + x*(x-1) + Rational(-10,6)*x*(x-1)*(x-2)\n",
    "x=Symbol('x')\n",
    "print(n(x))"
   ]
  },
  {
   "cell_type": "markdown",
   "metadata": {},
   "source": [
    "C'est mieux avec un rationnel - et non un flottant : "
   ]
  },
  {
   "cell_type": "code",
   "execution_count": 16,
   "metadata": {},
   "outputs": [
    {
     "name": "stdout",
     "output_type": "stream",
     "text": [
      "-5*x*(x - 2)*(x - 1)/3 + x*(x - 1) + 2*x + 4\n"
     ]
    }
   ],
   "source": [
    "n = lambda x : 4 + 2*x + x*(x-1) + Rational(-10,6)*x*(x-1)*(x-2)\n",
    "print(n(x))"
   ]
  },
  {
   "cell_type": "markdown",
   "metadata": {},
   "source": [
    "Voici enfin cette forme développée : "
   ]
  },
  {
   "cell_type": "code",
   "execution_count": 17,
   "metadata": {},
   "outputs": [
    {
     "name": "stdout",
     "output_type": "stream",
     "text": [
      "-5*x**3/3 + 6*x**2 - 7*x/3 + 4\n"
     ]
    }
   ],
   "source": [
    "print(expand(n(x)))"
   ]
  },
  {
   "cell_type": "markdown",
   "metadata": {},
   "source": [
    "Rappelons que cette fonction est connue par ses valeurs en $0$, $1$, $2$ et $3$ : "
   ]
  },
  {
   "cell_type": "code",
   "execution_count": 18,
   "metadata": {},
   "outputs": [
    {
     "name": "stdout",
     "output_type": "stream",
     "text": [
      "n(0) = 4\n",
      "n(1) = 6\n",
      "n(2) = 10\n",
      "n(3) = 6\n"
     ]
    }
   ],
   "source": [
    "for i in range(4): \n",
    "    print('n(%s) = %s'%(i,n(i)))"
   ]
  },
  {
   "cell_type": "markdown",
   "metadata": {
    "collapsed": true
   },
   "source": [
    "## polynômes de Lagrange\n",
    "Nous allons construire une fonction qui renverra un **polynôme de Lagrange**. \n",
    "\n",
    "Rappelons comment un tel polynôme est construit : \n",
    "* les paramètres sont deux suites de $n+1$ valeurs $x_i : 0\\leq i \\leq n$ et $y_i : 0\\leq i \\leq n$, les abscisses $x_i$ devant être deux à deux distinctes ; \n",
    "* notre fonction (informatique) renvoie la fonction (mathématique) $p$ qui est le seul polynôme de degré au plus $n$ qui vérifie pour chque $i$ l'équation $p(x_i)=y_i$, ce polynôme étant obtenu par la formule de calcul : \n",
    "    * les $L_i$ forment la base de Lagrange : $$L_i=x\\mapsto\\prod_{j\\in\\{0,1\\dots n\\},j\\neq i}(x-x_i)$$\n",
    "    * le polynôme interpolateur est obtenu par la combinaison linéaire $$p=x \\mapsto \\sum_{i\\in\\{0,1\\dots n\\}} \\frac{y_i}{L_i(x_i)}\\times L_i(x)$$\n",
    "    \n",
    "La signature de notre fonction pourra être \n",
    "\n",
    "    def LagrangePoly(xi,yi) : \n",
    "    \"\"\" En entrée deux listes de n+1 nombres\n",
    "    Renvoie de poly de Lagrange associé à ces deux listes\n",
    "    \"\"\"\n",
    "Il est prudent de disposer d'un jeu d'essai, par exemple en reprenant l'**exercice 2** de la **feuille de TD 2** : \n",
    "\n",
    "On construitra d'abord la base de Lagrange : \n",
    "* construire la liste des $n+1$ monomes $x-x_j$ ; \n",
    "* construire la liste des $n$ monomes $x-x_j$, sauf le numéro $i$ ;\n",
    "* construire le produit de ces monômes - qui est noté $L_i(x)$ dans notre cours.\n",
    "\n",
    "On conclura en construisant alors le polynôme de Taylor. "
   ]
  },
  {
   "cell_type": "code",
   "execution_count": 19,
   "metadata": {},
   "outputs": [
    {
     "name": "stdout",
     "output_type": "stream",
     "text": [
      ">>> >>> Données de l'exo 1, feuille 2 : \n",
      "[0, 1, 2]\n",
      "[4, 6, 10]\n",
      ">>> base de Lagrange : \n",
      "0  :   (x - 2)*(x - 1)\n",
      "1  :   x*(x - 2)\n",
      "2  :   x*(x - 1)\n",
      ">>> polynôme de Lagrange : \n",
      "-6*x*(x - 2) + 5*x*(x - 1) + 2*(x - 2)*(x - 1)\n",
      "x**2 + x + 4\n",
      "\n",
      ">>> >>> Données de l'exo 1, feuille 2 : \n",
      ">>> base de Lagrange : \n",
      "0  :   (x - 2)*(x - 1)\n",
      "1  :   x*(x - 2)\n",
      "2  :   x*(x - 1)\n",
      ">>> polynôme de Lagrange : \n",
      "-6*x*(x - 2) + 5*x*(x - 1) + 2*(x - 2)*(x - 1)\n",
      "x**2 + x + 4\n",
      "\n",
      ">>> >>> Données de l'exo 2, feuille 2 : \n",
      ">>> base de Lagrange : \n",
      "0  :   (x - 3)*(x - 2)*(x - 1)\n",
      "1  :   x*(x - 3)*(x - 2)\n",
      "2  :   x*(x - 3)*(x - 1)\n",
      "3  :   x*(x - 2)*(x - 1)\n",
      ">>> polynôme de Lagrange : \n",
      "3*x*(x - 3)*(x - 2) - 5*x*(x - 3)*(x - 1) + x*(x - 2)*(x - 1) - 2*(x - 3)*(x - 2)*(x - 1)/3\n",
      "-5*x**3/3 + 6*x**2 - 7*x/3 + 4\n"
     ]
    }
   ],
   "source": [
    "from sympy import *\n",
    "def LagrangeBasis(xi,i):\n",
    "    return (lambda x : prod([(x-xi[j]) for j in range(len(xi)) if j!=i])) \n",
    "    \n",
    "####\n",
    "def LagrangePoly(xi,yi) : \n",
    "    ### TODO : vérifier que les deux listes xi et yi sont de même taille ???\n",
    "    return lambda x : sum([sympify(yi[i])/sympify(LagrangeBasis(xi,i)(xi[i]))*LagrangeBasis(xi,i)(x) for i in range(len(xi))])\n",
    "##################################################\n",
    "x=Symbol('x') \n",
    "xi=[0,1,2]\n",
    "yi=[4,6,10]\n",
    "print(\">>> >>> Données de l'exo 1, feuille 2 : \")\n",
    "print(xi)\n",
    "print(yi)\n",
    "print('>>> base de Lagrange : ')\n",
    "for i in range(3) : \n",
    "    print(i,\" :  \", LagrangeBasis(xi,i)(x))\n",
    "pl1=LagrangePoly([0,1,2],[4,6,10])\n",
    "print('>>> polynôme de Lagrange : ')\n",
    "print(pl1(x))\n",
    "print(expand(pl1(x)))\n",
    "##################################################\n",
    "print(\"\\n>>> >>> Données de l'exo 1, feuille 2 : \")\n",
    "x=Symbol('x')\n",
    "xi=[0,1,2]\n",
    "yi=[4,6,10]\n",
    "print('>>> base de Lagrange : ')\n",
    "for i in range(3) : \n",
    "    print(i,\" :  \", LagrangeBasis(xi,i)(x))\n",
    "pl1=LagrangePoly(xi,yi)\n",
    "print('>>> polynôme de Lagrange : ')\n",
    "print(pl1(x))\n",
    "print(expand(pl1(x)))\n",
    "##################################################\n",
    "print(\"\\n>>> >>> Données de l'exo 2, feuille 2 : \")\n",
    "x=Symbol('x')\n",
    "xi=[0,1,2,3]\n",
    "yi=[4,6,10,6]\n",
    "print('>>> base de Lagrange : ')\n",
    "for i in range(4) : \n",
    "    print(i,\" :  \", LagrangeBasis(xi,i)(x))\n",
    "pl2=LagrangePoly(xi,yi)\n",
    "print('>>> polynôme de Lagrange : ')\n",
    "print(pl2(x))\n",
    "print(expand(pl2(x)))"
   ]
  },
  {
   "cell_type": "code",
   "execution_count": 20,
   "metadata": {},
   "outputs": [
    {
     "data": {
      "image/png": "[encoded data removed]",
      "text/plain": [
       "<matplotlib.figure.Figure at 0x11233a908>"
      ]
     },
     "metadata": {},
     "output_type": "display_data"
    }
   ],
   "source": [
    "dessin=plot(pl1(x),pl2(x),(x,-1,4),ylim=(0,25))"
   ]
  },
  {
   "cell_type": "markdown",
   "metadata": {},
   "source": [
    "Reprendre les calcules de la feuille 2 sur les polynômes de Lagrange. "
   ]
  },
  {
   "cell_type": "code",
   "execution_count": 21,
   "metadata": {},
   "outputs": [
    {
     "name": "stdout",
     "output_type": "stream",
     "text": [
      "==================================================\n",
      "1\n",
      "==================================================\n",
      "-(x - 2)*(x - 1)*(x + 1)/12 + (x - 2)*(x - 1)*(x + 2)/3 - 2*(x - 2)*(x + 1)*(x + 2)/3 + 5*(x - 1)*(x + 1)*(x + 2)/12\n",
      "x + 3\n",
      "==================================================\n",
      "==================================================\n"
     ]
    }
   ],
   "source": [
    "## exo 4 feuille 2 :\n",
    "def polyInterpolateur(xi,f) : \n",
    "    return LagrangePoly(xi,[f(_) for _ in xi])\n",
    "###########\n",
    "print(\"=\"*50)\n",
    "########### \n",
    "xi=[-1,1]\n",
    "f=lambda x : 1\n",
    "x=Symbol('x')\n",
    "pl1=polyInterpolateur(xi,f)\n",
    "print(pl1(x))\n",
    "###########\n",
    "print(\"=\"*50)\n",
    "########### \n",
    "xi=[1,-1,2,-2]\n",
    "f=lambda x : x+3\n",
    "x=Symbol('x')\n",
    "pl2=polyInterpolateur(xi,f)\n",
    "print(pl2(x))\n",
    "print(expand(pl2(x)))\n",
    "###########\n",
    "print(\"=\"*50)\n",
    "########### \n",
    "xi=[1,-1,2,-2]\n",
    "f=lambda x : x**3+3\n",
    "x=Symbol('x')\n",
    "pl3=polyInterpolateur(xi,f)\n",
    "#print(pl3(x))\n",
    "#print(expand(pl3(x)))\n",
    "###########\n",
    "print(\"=\"*50)\n",
    "########### \n",
    "\n",
    "\n"
   ]
  },
  {
   "cell_type": "markdown",
   "metadata": {},
   "source": [
    "## polynômes de Newton "
   ]
  },
  {
   "cell_type": "code",
   "execution_count": 22,
   "metadata": {},
   "outputs": [
    {
     "name": "stdout",
     "output_type": "stream",
     "text": [
      ">>> base de Newton : \n",
      "0  :   1\n",
      "1  :   x\n",
      "2  :   x*(x - 1)\n",
      "3  :   x*(x - 2)*(x - 1)\n",
      ">>> base de Newton : \n",
      "0  :   1\n",
      "1  :   x - 1\n",
      "2  :   (x - 3)*(x - 1)\n",
      "3  :   (x - 5)*(x - 3)*(x - 1)\n",
      "4  :   (x - 7)*(x - 5)*(x - 3)*(x - 1)\n",
      "5  :   (x - 9)*(x - 7)*(x - 5)*(x - 3)*(x - 1)\n",
      "[4, 6, 10, 6]\n",
      "[2, 4, -4]\n",
      "[2, -8]\n",
      "[-10]\n",
      "[4, 6, 8, 12]\n",
      "[2, 2, 4]\n",
      "[0, 2]\n",
      "[2]\n",
      "x*(x - 2)*(x - 1)/3 + 2*x + 4\n",
      "x**3/3 - x**2 + 8*x/3 + 4\n",
      "0 0 4 4\n",
      "1 1 6 6\n",
      "2 2 8 8\n",
      "3 3 12 12\n",
      "[4, 6, 8, 12]\n",
      "[2, 2, 4]\n",
      "[0, 2]\n",
      "[2]\n",
      "x + (x - 7)*(x - 5)*(x - 3)/24 + 1\n",
      "x**3/24 - 5*x**2/8 + 95*x/24 - 27/8\n",
      "0 3 4 4\n",
      "1 5 6 6\n",
      "2 7 8 8\n",
      "3 9 12 12\n"
     ]
    }
   ],
   "source": [
    "def NewtonBasis(début,pas,i):\n",
    "    return (lambda x : prod([ (x-(début+j*pas)) for j in range(i) ])) \n",
    "    ###\n",
    "print('>>> base de Newton : ')\n",
    "for i in range(4) : \n",
    "    print(i,\" :  \", NewtonBasis(0,1,i)(x))\n",
    "###\n",
    "print('>>> base de Newton : ')\n",
    "for i in range(6) : \n",
    "    print(i,\" :  \", NewtonBasis(1,2,i)(x))\n",
    "####\n",
    "def NewtonDelta(yi) : \n",
    "    Delta0=[]\n",
    "    while len(yi)>0 : \n",
    "        print(yi)\n",
    "        Delta0.append(yi[0])\n",
    "        Deltayi=[yi[i+1]-yi[i] for i in range(len(yi)-1)]\n",
    "        yi=Deltayi[:]\n",
    "    return Delta0\n",
    "NewtonDelta([4,6,10,6])\n",
    "### \n",
    "def NewtonPoly(début,pas,yi) : \n",
    "    Delta0=NewtonDelta(yi)\n",
    "    return lambda x : sum([ Rational(1,factorial(i))/pas**i*Delta0[i]*NewtonBasis(début,pas,i)(x) for i in range(len(yi))  ])\n",
    "début,pas,yi=0,1,[4,6,8,12]\n",
    "pn2=NewtonPoly(début,pas,yi)\n",
    "print(pn2(x))\n",
    "print(expand(pn2(x)))\n",
    "for i in range(len(yi)) : \n",
    "    print (i,début+i*pas,pn2(début+i*pas),yi[i])\n",
    "début,pas=3,2\n",
    "pn2=NewtonPoly(début,pas,yi)\n",
    "print(pn2(x))\n",
    "print(expand(pn2(x)))\n",
    "for i in range(len(yi)) : \n",
    "    print (i,début+i*pas,pn2(début+i*pas),yi[i])\n",
    "\n"
   ]
  },
  {
   "cell_type": "code",
   "execution_count": 23,
   "metadata": {},
   "outputs": [
    {
     "name": "stdout",
     "output_type": "stream",
     "text": [
      "Matrix([[25], [-5], [40]])\n"
     ]
    }
   ],
   "source": [
    "##exo3 coureur à pied\n",
    "A=Matrix(3,3,[1,1,1,4,2,1,9,3,1])\n",
    "B=Matrix(3,1,[60,130,250])\n",
    "print(A.inv()*B)"
   ]
  },
  {
   "cell_type": "code",
   "execution_count": 24,
   "metadata": {},
   "outputs": [
    {
     "name": "stdout",
     "output_type": "stream",
     "text": [
      "[60, 130, 250]\n",
      "[70, 120]\n",
      "[50]\n",
      "7*x/50 + (x - 1000)*(x - 500)/10000 - 10\n",
      "x**2/10000 - x/100 + 40\n",
      "420\n",
      "[60, 130, 250, 350]\n",
      "[70, 120, 100]\n",
      "[50, -20]\n",
      "[-70]\n",
      "7*x/50 - 7*(x - 1500)*(x - 1000)*(x - 500)/75000000 + (x - 1000)*(x - 500)/10000 - 10\n",
      "-7*x**3/75000000 + 19*x**2/50000 - 4*x/15 + 110\n",
      "350\n"
     ]
    },
    {
     "data": {
      "image/png": "[encoded data removed]",
      "text/plain": [
       "<matplotlib.figure.Figure at 0x115a33e48>"
      ]
     },
     "metadata": {},
     "output_type": "display_data"
    },
    {
     "data": {
      "text/plain": [
       "<sympy.plotting.plot.Plot at 0x1156eab38>"
      ]
     },
     "execution_count": 24,
     "metadata": {},
     "output_type": "execute_result"
    }
   ],
   "source": [
    "##exo 3 coureur à pied\n",
    "pn1=NewtonPoly(500,500,[60,130,250])\n",
    "print(pn1(x))\n",
    "print(expand(pn1(x)))\n",
    "print(pn1(2000))\n",
    "######\n",
    "pn2=NewtonPoly(500,500,[60,130,250,350])\n",
    "print(pn2(x))\n",
    "print(expand(pn2(x)))\n",
    "print(pn2(2000))\n",
    "######\n",
    "plot(pn1(x),(x,-500,2500),ylim=(-200,1000))"
   ]
  },
  {
   "cell_type": "code",
   "execution_count": 25,
   "metadata": {},
   "outputs": [
    {
     "name": "stdout",
     "output_type": "stream",
     "text": [
      "[60, 130, 250]\n",
      "[70, 120]\n",
      "[50]\n",
      "70*x + 25*(x - 2)*(x - 1) - 10\n",
      "25*x**2 - 5*x + 40\n",
      "420\n",
      "[60, 130, 250, 350]\n",
      "[70, 120, 100]\n",
      "[50, -20]\n",
      "[-70]\n",
      "70*x - 35*(x - 3)*(x - 2)*(x - 1)/3 + 25*(x - 2)*(x - 1) - 10\n",
      "-35*x**3/3 + 95*x**2 - 400*x/3 + 110\n",
      "350\n",
      "[0, 60, 130, 250, 350]\n",
      "[60, 70, 120, 100]\n",
      "[10, 50, -20]\n",
      "[40, -70]\n",
      "[-110]\n",
      "-55*x*(x - 3)*(x - 2)*(x - 1)/12 + 20*x*(x - 2)*(x - 1)/3 + 5*x*(x - 1) + 60*x\n",
      "-55*x**4/12 + 205*x**3/6 - 785*x**2/12 + 575*x/6\n"
     ]
    },
    {
     "data": {
      "image/png": "[encoded data removed]",
      "text/plain": [
       "<matplotlib.figure.Figure at 0x115ad2e10>"
      ]
     },
     "metadata": {},
     "output_type": "display_data"
    },
    {
     "data": {
      "text/plain": [
       "<sympy.plotting.plot.Plot at 0x1159c6c50>"
      ]
     },
     "execution_count": 25,
     "metadata": {},
     "output_type": "execute_result"
    }
   ],
   "source": [
    "##exo 3 coureur à pied avec changement d'unité \n",
    "pn1=NewtonPoly(1,1,[60,130,250])\n",
    "print(pn1(x))\n",
    "print(expand(pn1(x)))\n",
    "print(pn1(4))\n",
    "######\n",
    "pn2=NewtonPoly(1,1,[60,130,250,350])\n",
    "print(pn2(x))\n",
    "print(expand(pn2(x)))\n",
    "print(pn2(4))\n",
    "############\n",
    "pn3=NewtonPoly(0,1,[0,60,130,250,350])\n",
    "print(pn3(x))\n",
    "print(expand(pn3(x)))\n",
    "############\n",
    "plot(pn1(x),pn2(x),pn3(x),(x,-0.5,4.5),ylim=(-50,500))"
   ]
  },
  {
   "cell_type": "code",
   "execution_count": null,
   "metadata": {
    "collapsed": true
   },
   "outputs": [],
   "source": []
  },
  {
   "cell_type": "code",
   "execution_count": null,
   "metadata": {
    "collapsed": true
   },
   "outputs": [],
   "source": []
  },
  {
   "cell_type": "code",
   "execution_count": null,
   "metadata": {
    "collapsed": true
   },
   "outputs": [],
   "source": []
  },
  {
   "cell_type": "code",
   "execution_count": null,
   "metadata": {
    "collapsed": true
   },
   "outputs": [],
   "source": [
    "from sympy import symbols\n",
    "from sympy.plotting import plot\n",
    "x = symbols('x')\n",
    "p1 = plot(x*x)\n",
    "p2 = plot(x)\n",
    "p1.extend(p2)\n",
    "p1.show()"
   ]
  },
  {
   "cell_type": "code",
   "execution_count": null,
   "metadata": {
    "collapsed": true
   },
   "outputs": [],
   "source": [
    "p1 = plot(x*x)\n",
    "p2 = plot(x)\n",
    "p1.show()"
   ]
  },
  {
   "cell_type": "code",
   "execution_count": null,
   "metadata": {
    "collapsed": true
   },
   "outputs": [],
   "source": [
    "plot?"
   ]
  },
  {
   "cell_type": "code",
   "execution_count": null,
   "metadata": {
    "collapsed": true
   },
   "outputs": [],
   "source": []
  }
 ],
 "metadata": {
  "kernelspec": {
   "display_name": "Python 3",
   "language": "python",
   "name": "python3"
  },
  "language_info": {
   "codemirror_mode": {
    "name": "ipython",
    "version": 3
   },
   "file_extension": ".py",
   "mimetype": "text/x-python",
   "name": "python",
   "nbconvert_exporter": "python",
   "pygments_lexer": "ipython3",
   "version": "3.6.0"
  }
 },
 "nbformat": 4,
 "nbformat_minor": 2
}
