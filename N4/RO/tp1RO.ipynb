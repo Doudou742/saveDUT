{
 "cells": [
  {
   "cell_type": "code",
   "execution_count": 1,
   "metadata": {
    "collapsed": true
   },
   "outputs": [],
   "source": [
    "import pulp\n",
    "#pulp.pulpTestAll()"
   ]
  },
  {
   "cell_type": "code",
   "execution_count": 22,
   "metadata": {},
   "outputs": [
    {
     "name": "stdout",
     "output_type": "stream",
     "text": [
      "exo 4:\n",
      "MAXIMIZE\n",
      "0.2*a + 0.3*m + 8.0\n",
      "SUBJECT TO\n",
      "temps_de_travail: 3 a + m <= 13\n",
      "\n",
      "papier: 10 a + 20 m <= 125\n",
      "\n",
      "VARIABLES\n",
      "a <= 3 Continuous\n",
      "m <= 6 Continuous\n",
      "\n",
      "==============================\n",
      "Optimal\n",
      "10.010000000000002\n",
      "4.9\n",
      "2.7\n",
      "la moyenne maximale est 10.010000000000002 avec 4.9 exos de bidouillage et 2.7 exos d'algo.\n"
     ]
    }
   ],
   "source": [
    "exo = pulp.LpProblem('exo 4',pulp.LpMaximize)\n",
    "#variables\n",
    "m = pulp.LpVariable('m',lowBound=0,upBound=6)\n",
    "a = pulp.LpVariable('a',lowBound=0,upBound=3)\n",
    "#fonction z\n",
    "exo += 8.0 + 0.3 * m + 0.2 * a\n",
    "#contraintes\n",
    "exo += m + 3 * a <= 13 , \"temps de travail\"\n",
    "exo += m * 20 + a * 10 <= 125 , \"papier\"\n",
    "#verif\n",
    "print(exo)\n",
    "#resolution\n",
    "print('=' * 30)\n",
    "exo.solve()\n",
    "print(pulp.LpStatus[exo.status])\n",
    "print(pulp.value(exo.objective))\n",
    "print(pulp.value(m))\n",
    "print(pulp.value(a))\n",
    "print(\"la moyenne maximale est %s avec %s exos de bidouillage et %s exos d'algo.\"%(pulp.value(exo.objective),pulp.value(m),pulp.value(a)))"
   ]
  },
  {
   "cell_type": "code",
   "execution_count": 25,
   "metadata": {},
   "outputs": [
    {
     "name": "stdout",
     "output_type": "stream",
     "text": [
      "exo 5:\n",
      "MAXIMIZE\n",
      "1*x + 4*y + 0\n",
      "SUBJECT TO\n",
      "a: - 3 x + y <= 3\n",
      "\n",
      "b: x - 3 y <= 3\n",
      "\n",
      "c: 3 x - y <= 17\n",
      "\n",
      "d: x + 3 y <= 19\n",
      "\n",
      "VARIABLES\n",
      "x Continuous\n",
      "y Continuous\n",
      "\n",
      "==============================\n",
      "Optimal\n",
      "25.0\n",
      "1.0\n",
      "6.0\n",
      "a vaut 25.0 b vaut 1.0 c vaut 6.0.\n"
     ]
    }
   ],
   "source": [
    "exo5 = pulp.LpProblem('exo 5',pulp.LpMaximize)\n",
    "#variables\n",
    "x = pulp.LpVariable('x',lowBound=0)\n",
    "y = pulp.LpVariable('y',lowBound=0)\n",
    "#fonction z\n",
    "exo5 += x + 4 * y\n",
    "#contraintes\n",
    "exo5 += -3 * x + y <= 3  ,\"a\"\n",
    "exo5 += x  - 3 * y <= 3  , \"b\"\n",
    "exo5 += 3  * x - y <= 17 , \"c\"\n",
    "exo5 += x  + 3 * y <= 19 , \"d\"\n",
    "#verif\n",
    "print(exo5)\n",
    "#resolution\n",
    "print('=' * 30)\n",
    "exo5.solve()\n",
    "print(pulp.LpStatus[exo5.status])\n",
    "print(pulp.value(exo5.objective))\n",
    "print(pulp.value(x))\n",
    "print(pulp.value(y))\n",
    "print(\"a vaut %s b vaut %s c vaut %s.\"%(pulp.value(exo5.objective),pulp.value(x),pulp.value(y)))"
   ]
  },
  {
   "cell_type": "code",
   "execution_count": 26,
   "metadata": {},
   "outputs": [
    {
     "name": "stdout",
     "output_type": "stream",
     "text": [
      "exo 5 q2:\n",
      "MAXIMIZE\n",
      "1*x + 4*y + 0\n",
      "SUBJECT TO\n",
      "a: - 3 x + y <= 3\n",
      "\n",
      "b: x - 3 y <= 3\n",
      "\n",
      "c: 3 x - y <= 17\n",
      "\n",
      "VARIABLES\n",
      "x Continuous\n",
      "y Continuous\n",
      "\n",
      "==============================\n",
      "Unbounded\n",
      "12.0\n",
      "0.0\n",
      "3.0\n",
      "a vaut 12.0 b vaut 0.0 c vaut 3.0.\n"
     ]
    }
   ],
   "source": [
    "exo5q2 = pulp.LpProblem('exo 5 q2',pulp.LpMaximize)\n",
    "#variables\n",
    "x = pulp.LpVariable('x',lowBound=0)\n",
    "y = pulp.LpVariable('y',lowBound=0)\n",
    "#fonction z\n",
    "exo5q2 += x + 4 * y\n",
    "#contraintes\n",
    "exo5q2 += -3 * x + y <= 3  ,\"a\"\n",
    "exo5q2 += x  - 3 * y <= 3  , \"b\"\n",
    "exo5q2 += 3  * x - y <= 17 , \"c\"\n",
    "#verif\n",
    "print(exo5q2)\n",
    "#resolution\n",
    "print('=' * 30)\n",
    "exo5q2.solve()\n",
    "print(pulp.LpStatus[exo5q2.status])\n",
    "print(pulp.value(exo5q2.objective))\n",
    "print(pulp.value(x))\n",
    "print(pulp.value(y))\n",
    "print(\"a vaut %s b vaut %s c vaut %s.\"%(pulp.value(exo5q2.objective),pulp.value(x),pulp.value(y)))"
   ]
  },
  {
   "cell_type": "code",
   "execution_count": 27,
   "metadata": {},
   "outputs": [
    {
     "name": "stdout",
     "output_type": "stream",
     "text": [
      "exo 6 q1:\n",
      "MAXIMIZE\n",
      "1*x + -1*y + 0\n",
      "SUBJECT TO\n",
      "a: - 3 x + y <= 3\n",
      "\n",
      "b: 3 x - y <= 17\n",
      "\n",
      "c: x + 3 y <= 19\n",
      "\n",
      "VARIABLES\n",
      "x Continuous\n",
      "y Continuous\n",
      "\n",
      "==============================\n",
      "Optimal\n",
      "5.6666667\n",
      "5.6666667\n",
      "0.0\n",
      "maximum vaut 5.6666667 x vaut 5.6666667 y vaut 0.0.\n"
     ]
    }
   ],
   "source": [
    "exo6q1 = pulp.LpProblem('exo 6 q1',pulp.LpMaximize)\n",
    "#variables\n",
    "x = pulp.LpVariable('x',lowBound=0)\n",
    "y = pulp.LpVariable('y',lowBound=0)\n",
    "#fonction z\n",
    "exo6q1 += x - y\n",
    "#contraintes\n",
    "exo6q1 += -3 * x + y <= 3  ,\"a\"\n",
    "exo6q1 +=  3 * x - y <= 17 , \"b\"\n",
    "exo6q1 +=  x + 3 * y <= 19 , \"c\"\n",
    "#verif\n",
    "print(exo6q1)\n",
    "#resolution\n",
    "print('=' * 30)\n",
    "exo6q1.solve()\n",
    "print(pulp.LpStatus[exo6q1.status])\n",
    "print(pulp.value(exo6q1.objective))\n",
    "print(pulp.value(x))\n",
    "print(pulp.value(y))\n",
    "print(\"maximum vaut %s x vaut %s y vaut %s.\"%(pulp.value(exo6q1.objective),pulp.value(x),pulp.value(y)))"
   ]
  },
  {
   "cell_type": "code",
   "execution_count": 29,
   "metadata": {},
   "outputs": [
    {
     "name": "stdout",
     "output_type": "stream",
     "text": [
      "exo 6 q2:\n",
      "MAXIMIZE\n",
      "1*x + -1*y + 0\n",
      "SUBJECT TO\n",
      "a: - 3 x + y <= 3\n",
      "\n",
      "b: 3 x - y <= 17\n",
      "\n",
      "c: x + 3 y <= 19\n",
      "\n",
      "VARIABLES\n",
      "x Continuous\n",
      "y free Continuous\n",
      "\n",
      "==============================\n",
      "Optimal\n",
      "17.0\n",
      "0.0\n",
      "-17.0\n",
      "maximum vaut 17.0 x vaut 0.0 y vaut -17.0.\n"
     ]
    }
   ],
   "source": [
    "exo6q2 = pulp.LpProblem('exo 6 q2',pulp.LpMaximize)\n",
    "#variables\n",
    "x = pulp.LpVariable('x',lowBound=0)\n",
    "y = pulp.LpVariable('y')\n",
    "#fonction z\n",
    "exo6q2 += x - y\n",
    "#contraintes\n",
    "exo6q2 += -3 * x + y <= 3  ,\"a\"\n",
    "exo6q2 +=  3 * x - y <= 17 , \"b\"\n",
    "exo6q2 +=  x + 3 * y <= 19 , \"c\"\n",
    "#verif\n",
    "print(exo6q2)\n",
    "#resolution\n",
    "print('=' * 30)\n",
    "exo6q2.solve()\n",
    "print(pulp.LpStatus[exo6q2.status])\n",
    "print(pulp.value(exo6q2.objective))\n",
    "print(pulp.value(x))\n",
    "print(pulp.value(y))\n",
    "print(\"maximum vaut %s x vaut %s y vaut %s.\"%(pulp.value(exo6q2.objective),pulp.value(x),pulp.value(y)))"
   ]
  },
  {
   "cell_type": "code",
   "execution_count": 31,
   "metadata": {},
   "outputs": [
    {
     "name": "stdout",
     "output_type": "stream",
     "text": [
      "exo 6 q3:\n",
      "MAXIMIZE\n",
      "1*x + -1*y + 0\n",
      "SUBJECT TO\n",
      "a: - 3 x + y <= 3\n",
      "\n",
      "b: 3 x - y <= 17\n",
      "\n",
      "c: x + 3 y <= 19\n",
      "\n",
      "d: x + y >= 5\n",
      "\n",
      "VARIABLES\n",
      "x Continuous\n",
      "y Continuous\n",
      "\n",
      "==============================\n",
      "Optimal\n",
      "5.6666667\n",
      "5.6666667\n",
      "0.0\n",
      "maximum vaut 5.6666667 x vaut 5.6666667 y vaut 0.0.\n"
     ]
    }
   ],
   "source": [
    "exo6q3 = pulp.LpProblem('exo 6 q3',pulp.LpMaximize)\n",
    "#variables\n",
    "x = pulp.LpVariable('x',lowBound=0)\n",
    "y = pulp.LpVariable('y',lowBound=0)\n",
    "#fonction z\n",
    "exo6q3 += x - y\n",
    "#contraintes\n",
    "exo6q3 += -3 * x + y <= 3  ,\"a\"\n",
    "exo6q3 +=  3 * x - y <= 17 , \"b\"\n",
    "exo6q3 +=  x + 3 * y <= 19 , \"c\"\n",
    "exo6q3 +=  x + y     >=  5 , \"d\"\n",
    "#verif\n",
    "print(exo6q3)\n",
    "#resolution\n",
    "print('=' * 30)\n",
    "exo6q3.solve()\n",
    "print(pulp.LpStatus[exo6q3.status])\n",
    "print(pulp.value(exo6q3.objective))\n",
    "print(pulp.value(x))\n",
    "print(pulp.value(y))\n",
    "print(\"maximum vaut %s x vaut %s y vaut %s.\"%(pulp.value(exo6q3.objective),pulp.value(x),pulp.value(y)))"
   ]
  },
  {
   "cell_type": "code",
   "execution_count": 32,
   "metadata": {},
   "outputs": [
    {
     "name": "stdout",
     "output_type": "stream",
     "text": [
      "exo 6 q4:\n",
      "MAXIMIZE\n",
      "1*x + -1*y + 0\n",
      "SUBJECT TO\n",
      "a: - 3 x + y <= 3\n",
      "\n",
      "b: 3 x - y <= 17\n",
      "\n",
      "c: x + 3 y <= 19\n",
      "\n",
      "d: x + y >= 15\n",
      "\n",
      "VARIABLES\n",
      "x Continuous\n",
      "y Continuous\n",
      "\n",
      "==============================\n",
      "Infeasible\n",
      "1.0\n",
      "8.0\n",
      "7.0\n",
      "maximum vaut 1.0 x vaut 8.0 y vaut 7.0.\n"
     ]
    }
   ],
   "source": [
    "exo6q4 = pulp.LpProblem('exo 6 q4',pulp.LpMaximize)\n",
    "#variables\n",
    "x = pulp.LpVariable('x',lowBound=0)\n",
    "y = pulp.LpVariable('y',lowBound=0)\n",
    "#fonction z\n",
    "exo6q4 += x - y\n",
    "#contraintes\n",
    "exo6q4 += -3 * x + y <= 3  ,\"a\"\n",
    "exo6q4 +=  3 * x - y <= 17 , \"b\"\n",
    "exo6q4 +=  x + 3 * y <= 19 , \"c\"\n",
    "exo6q4 +=  x + y     >= 15 , \"d\"\n",
    "#verif\n",
    "print(exo6q4)\n",
    "#resolution\n",
    "print('=' * 30)\n",
    "exo6q4.solve()\n",
    "print(pulp.LpStatus[exo6q4.status])\n",
    "print(pulp.value(exo6q4.objective))\n",
    "print(pulp.value(x))\n",
    "print(pulp.value(y))\n",
    "print(\"maximum vaut %s x vaut %s y vaut %s.\"%(pulp.value(exo6q4.objective),pulp.value(x),pulp.value(y)))"
   ]
  },
  {
   "cell_type": "code",
   "execution_count": 34,
   "metadata": {},
   "outputs": [
    {
     "name": "stdout",
     "output_type": "stream",
     "text": [
      "exo 7:\n",
      "MAXIMIZE\n",
      "100*x + 120*y + 0\n",
      "SUBJECT TO\n",
      "a: x + y <= 2000\n",
      "\n",
      "b: x >= 100\n",
      "\n",
      "c: y >= 200\n",
      "\n",
      "_C1: 30 x + 20 y <= 48000\n",
      "\n",
      "_C2: x + 2 y <= 3600\n",
      "\n",
      "VARIABLES\n",
      "x Continuous\n",
      "y Continuous\n",
      "\n",
      "==============================\n",
      "Optimal\n",
      "232000.0\n",
      "400.0\n",
      "1600.0\n",
      "maximum vaut 232000.0 x vaut 400.0 y vaut 1600.0.\n"
     ]
    }
   ],
   "source": [
    "exo7 = pulp.LpProblem('exo 7',pulp.LpMaximize)\n",
    "#variables\n",
    "x = pulp.LpVariable('x',lowBound=0)\n",
    "y = pulp.LpVariable('y',lowBound=0)\n",
    "#fonction z\n",
    "exo7 += 100 * x + 120 * y\n",
    "#contraintes\n",
    "exo7 +=  x + y          <= 2000  ,\"a\"\n",
    "exo7 +=  x              >= 100   , \"b\"\n",
    "exo7 +=  y              >= 200   , \"c\"\n",
    "exo7 += 30 * x + 20 * y <= 48000\n",
    "exo7 += x + 2 * y       <= 3600\n",
    "#verif\n",
    "print(exo7)\n",
    "#resolution\n",
    "print('=' * 30)\n",
    "exo7.solve()\n",
    "print(pulp.LpStatus[exo7.status])\n",
    "print(pulp.value(exo7.objective))\n",
    "print(pulp.value(x))\n",
    "print(pulp.value(y))\n",
    "print(\"maximum vaut %s x vaut %s y vaut %s.\"%(pulp.value(exo7.objective),pulp.value(x),pulp.value(y)))"
   ]
  },
  {
   "cell_type": "markdown",
   "metadata": {
    "collapsed": true
   },
   "source": [
    "TP2"
   ]
  },
  {
   "cell_type": "markdown",
   "metadata": {},
   "source": [
    "exo8"
   ]
  },
  {
   "cell_type": "code",
   "execution_count": 6,
   "metadata": {},
   "outputs": [
    {
     "name": "stdout",
     "output_type": "stream",
     "text": [
      "exo 8:\n",
      "MINIMIZE\n",
      "1*x05 + 1*x1 + 1*x2 + 1*x5 + 0\n",
      "SUBJECT TO\n",
      "a: 0.5 x05 + x1 + 2 x2 + 5 x5 = 170.5\n",
      "\n",
      "b: x05 <= 20\n",
      "\n",
      "c: x1 <= 50\n",
      "\n",
      "d: x2 <= 120\n",
      "\n",
      "e: x5 <= 50\n",
      "\n",
      "VARIABLES\n",
      "0 <= x05 Integer\n",
      "0 <= x1 Integer\n",
      "0 <= x2 Integer\n",
      "0 <= x5 Integer\n",
      "\n",
      "==============================\n",
      "Optimal\n",
      "35.0\n",
      "1.0\n",
      "0.0\n",
      "0.0\n",
      "34.0\n",
      "maximum vaut 35.0 le nb de piece de 0.5 vaut 1.0 de 1 vaut 0.0 de 2 vaut 0.0 de 5 vaut 34.0.\n"
     ]
    }
   ],
   "source": [
    "exo8 = pulp.LpProblem('exo 8',pulp.LpMinimize)\n",
    "#variables\n",
    "x05 = pulp.LpVariable('x05',lowBound=0,cat=\"Integer\")\n",
    "x1  = pulp.LpVariable('x1' ,lowBound=0,cat=\"Integer\")\n",
    "x2  = pulp.LpVariable('x2' ,lowBound=0,cat=\"Integer\")\n",
    "x5  = pulp.LpVariable('x5' ,lowBound=0,cat=\"Integer\")\n",
    "\n",
    "#fonction z\n",
    "exo8 +=  x05 +x1 +x2 +x5\n",
    "\n",
    "#contraintes\n",
    "exo8 += 0.5 * x05 + x1 + 2 * x2 + 5 * x5 == 170.5 , \"a\"\n",
    "exo8 +=  x05 <= 20                                , \"b\"\n",
    "exo8 +=  x1  <= 50                                , \"c\"\n",
    "exo8 +=  x2  <= 120                               , \"d\"\n",
    "exo8 +=  x5  <= 50                                , \"e\"\n",
    "\n",
    "#verif\n",
    "print(exo8)\n",
    "\n",
    "#resolution\n",
    "print('=' * 30)\n",
    "exo8.solve()\n",
    "\n",
    "print(pulp.LpStatus[exo8.status])\n",
    "print(pulp.value(exo8.objective))\n",
    "print(pulp.value(x05))\n",
    "print(pulp.value(x1))\n",
    "print(pulp.value(x2))\n",
    "print(pulp.value(x5))\n",
    "print(\"maximum vaut %s le nb de piece de 0.5 vaut %s de 1 vaut %s de 2 vaut %s de 5 vaut %s.\"%(pulp.value(exo8.objective),pulp.value(x05),pulp.value(x1),pulp.value(x2),pulp.value(x5)))"
   ]
  },
  {
   "cell_type": "markdown",
   "metadata": {},
   "source": [
    "exo Colis"
   ]
  },
  {
   "cell_type": "code",
   "execution_count": 15,
   "metadata": {
    "collapsed": true
   },
   "outputs": [
    {
     "name": "stdout",
     "output_type": "stream",
     "text": [
      "exo Colis:\n",
      "MAXIMIZE\n",
      "1*xc1t1 + 1*xc1t2 + 1*xc1t3 + 1*xc1t4 + 1*xc1t5 + 1*xc2t1 + 1*xc2t2 + 1*xc2t3 + 1*xc2t4 + 1*xc2t5 + 1*xc3t1 + 1*xc3t2 + 1*xc3t3 + 1*xc3t4 + 1*xc3t5 + 1*xc4t1 + 1*xc4t2 + 1*xc4t3 + 1*xc4t4 + 1*xc4t5 + 0\n",
      "SUBJECT TO\n",
      "type_t1: xc1t1 + xc2t1 + xc3t1 + xc4t1 <= 3\n",
      "\n",
      "type_t2: xc1t2 + xc2t2 + xc3t2 + xc4t2 <= 3\n",
      "\n",
      "type_t3: xc1t3 + xc2t3 + xc3t3 + xc4t3 <= 3\n",
      "\n",
      "type_t4: xc1t4 + xc2t4 + xc3t4 + xc4t4 <= 3\n",
      "\n",
      "type_t5: xc1t5 + xc2t5 + xc3t5 + xc4t5 <= 3\n",
      "\n",
      "camions_c1: xc1t1 + xc1t2 + xc1t3 + xc1t4 + xc1t5 <= 5\n",
      "\n",
      "camions_c2: xc2t1 + xc2t2 + xc2t3 + xc2t4 + xc2t5 <= 4\n",
      "\n",
      "camions_c3: xc3t1 + xc3t2 + xc3t3 + xc3t4 + xc3t5 <= 4\n",
      "\n",
      "camions_c4: xc4t1 + xc4t2 + xc4t3 + xc4t4 + xc4t5 <= 3\n",
      "\n",
      "VARIABLES\n",
      "0 <= xc1t1 <= 1 Integer\n",
      "0 <= xc1t2 <= 1 Integer\n",
      "0 <= xc1t3 <= 1 Integer\n",
      "0 <= xc1t4 <= 1 Integer\n",
      "0 <= xc1t5 <= 1 Integer\n",
      "0 <= xc2t1 <= 1 Integer\n",
      "0 <= xc2t2 <= 1 Integer\n",
      "0 <= xc2t3 <= 1 Integer\n",
      "0 <= xc2t4 <= 1 Integer\n",
      "0 <= xc2t5 <= 1 Integer\n",
      "0 <= xc3t1 <= 1 Integer\n",
      "0 <= xc3t2 <= 1 Integer\n",
      "0 <= xc3t3 <= 1 Integer\n",
      "0 <= xc3t4 <= 1 Integer\n",
      "0 <= xc3t5 <= 1 Integer\n",
      "0 <= xc4t1 <= 1 Integer\n",
      "0 <= xc4t2 <= 1 Integer\n",
      "0 <= xc4t3 <= 1 Integer\n",
      "0 <= xc4t4 <= 1 Integer\n",
      "0 <= xc4t5 <= 1 Integer\n",
      "\n",
      "Optimal\n",
      "15.0\n"
     ]
    }
   ],
   "source": [
    "exoColis = pulp.LpProblem('exo Colis',pulp.LpMaximize)\n",
    "#variables\n",
    "camions    = [\"c%s\"%_ for _ in range(1,5)]\n",
    "typescolis = [\"t%s\"%_ for _ in range(1,6)]\n",
    "camions, typescolis\n",
    "\n",
    "\n",
    "cap={'c1':5 , 'c2':4 , 'c3':4 , 'c4':3}\n",
    "\n",
    "x={} ### dico vide\n",
    "for c in camions :\n",
    "    for t in typescolis :\n",
    "        x[(c,t)] = pulp.LpVariable(\"x\"+c+t,lowBound=0,upBound=1,cat='Integer')\n",
    "           \n",
    "exoColis += sum( [ x[(c,t)] for c in camions for t in typescolis ] )\n",
    "#contraintes\n",
    "for t in typescolis :\n",
    "    exoColis += sum( [ x[(c,t)] for c in camions ]) <= 3, \"type \" + t\n",
    "    \n",
    "for c in camions :\n",
    "    exoColis += sum( [ x[(c,t)] for t in typescolis ] ) <= cap[c], \"camions \" + c\n",
    "\n",
    "\n",
    "print(exoColis)\n",
    "exoColis.solve()\n",
    "print(pulp.LpStatus[exoColis.status])\n",
    "print(pulp.value(exoColis.objective))"
   ]
  },
  {
   "cell_type": "code",
   "execution_count": null,
   "metadata": {
    "collapsed": true
   },
   "outputs": [],
   "source": []
  }
 ],
 "metadata": {
  "kernelspec": {
   "display_name": "Python 3",
   "language": "python",
   "name": "python3"
  },
  "language_info": {
   "codemirror_mode": {
    "name": "ipython",
    "version": 3
   },
   "file_extension": ".py",
   "mimetype": "text/x-python",
   "name": "python",
   "nbconvert_exporter": "python",
   "pygments_lexer": "ipython3",
   "version": "3.6.1"
  }
 },
 "nbformat": 4,
 "nbformat_minor": 2
}
